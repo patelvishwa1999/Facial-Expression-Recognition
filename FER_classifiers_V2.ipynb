{
  "cells": [
    {
      "cell_type": "markdown",
      "source": [
        "## ***Facial Expression Recognition***\n",
        "# *ResNet50 vs Our CNN*"
      ],
      "metadata": {
        "id": "MCKgxzN6oaJV"
      },
      "id": "MCKgxzN6oaJV"
    },
    {
      "cell_type": "code",
      "execution_count": null,
      "metadata": {
        "id": "dUvQ6BBHa70E"
      },
      "outputs": [],
      "source": [
        "import tensorflow as tf\n",
        "from tensorflow import keras as k\n",
        "from tensorflow.keras.layers import Conv2D, BatchNormalization, MaxPooling2D, Dropout\n",
        "from tensorflow.keras.preprocessing.image import ImageDataGenerator\n",
        "import numpy as np\n",
        "import pandas as pd\n",
        "import matplotlib.pyplot as plt\n",
        "import sklearn\n",
        "from sklearn.metrics import f1_score"
      ],
      "id": "dUvQ6BBHa70E"
    },
    {
      "cell_type": "code",
      "source": [
        "import cv2"
      ],
      "metadata": {
        "id": "g65SZINDifq2"
      },
      "id": "g65SZINDifq2",
      "execution_count": null,
      "outputs": []
    },
    {
      "cell_type": "code",
      "execution_count": null,
      "metadata": {
        "colab": {
          "base_uri": "https://localhost:8080/"
        },
        "id": "5LgaILtF2nzV",
        "outputId": "9472d262-b241-4d9d-c4a2-290c20e5a52f"
      },
      "outputs": [
        {
          "output_type": "stream",
          "name": "stdout",
          "text": [
            "Mounted at /content/drive\n"
          ]
        }
      ],
      "source": [
        "from google.colab import drive\n",
        "drive.mount('/content/drive')"
      ],
      "id": "5LgaILtF2nzV"
    },
    {
      "cell_type": "code",
      "execution_count": null,
      "metadata": {
        "colab": {
          "base_uri": "https://localhost:8080/"
        },
        "id": "4mC2-Z2Ua70F",
        "outputId": "d0b02e1c-0116-4c0a-8679-26b2b2ff5536"
      },
      "outputs": [
        {
          "output_type": "stream",
          "name": "stdout",
          "text": [
            "Dataframe shape:(35887, 3)\n",
            "Unique labels with count:3    8989\n",
            "6    6198\n",
            "4    6077\n",
            "2    5121\n",
            "0    4953\n",
            "5    4002\n",
            "1     547\n",
            "Name: emotion, dtype: int64\n"
          ]
        }
      ],
      "source": [
        "df = pd.read_csv('/content/drive/MyDrive/Datasets/fer2013.csv')\n",
        "\n",
        "print('Dataframe shape:' + str(df.shape))\n",
        "\n",
        "#0:'anger', 1:'disgust', 2:'fear', 3:'happiness', 4:'sadness', 5:'surprise', 6:'neutral'\n",
        "print('Unique labels with count:' + str(df.emotion.value_counts()))"
      ],
      "id": "4mC2-Z2Ua70F"
    },
    {
      "cell_type": "code",
      "execution_count": null,
      "metadata": {
        "colab": {
          "base_uri": "https://localhost:8080/"
        },
        "id": "tFm2JL-Ea70G",
        "outputId": "d9e1c215-de23-4a8d-8fd9-b4fa3cfe0d6a"
      },
      "outputs": [
        {
          "output_type": "stream",
          "name": "stdout",
          "text": [
            "Training and Validation Dataframe shape:(32298, 3)\n",
            "Test Dataframe shape:(3589, 3)\n"
          ]
        }
      ],
      "source": [
        "df_train = df[df.Usage.isin(['Training','PublicTest'])]\n",
        "print('Training and Validation Dataframe shape:' + str(df_train.shape))\n",
        "df_test = df[df.Usage.isin(['PrivateTest'])]\n",
        "print('Test Dataframe shape:' + str(df_test.shape))"
      ],
      "id": "tFm2JL-Ea70G"
    },
    {
      "cell_type": "code",
      "source": [
        "print('_______Training and Validation Data_______')\n",
        "train_val_img_array = df_train.pixels.apply(lambda x: np.array(x.split(' ')).reshape(48, 48, 1).astype('float32'))\n",
        "train_val_img_array = np.stack(train_val_img_array, axis=0)\n",
        "#train_val_img_array = np.repeat(train_val_img_array[..., np.newaxis], 3, -1)\n",
        "train_val_img_array = np.repeat(train_val_img_array[...], 3, -1)\n",
        "print('Shape(Training and Validation) after formatting: ' + str(train_val_img_array.shape))\n",
        "\n",
        "print('_______Test Data_______')\n",
        "test_img_array = df_test.pixels.apply(lambda x: np.array(x.split(' ')).reshape(48, 48, 1).astype('float32'))\n",
        "test_img_array = np.stack(test_img_array, axis=0)\n",
        "test_img_array = np.repeat(test_img_array[...], 3, -1)\n",
        "print('Shape(Test) after formatting: ' + str(test_img_array.shape))"
      ],
      "metadata": {
        "colab": {
          "base_uri": "https://localhost:8080/"
        },
        "id": "JRchp1xlil65",
        "outputId": "4fdae141-7150-4823-d3df-37ded833391a"
      },
      "id": "JRchp1xlil65",
      "execution_count": null,
      "outputs": [
        {
          "output_type": "stream",
          "name": "stdout",
          "text": [
            "_______Training and Validation Data_______\n",
            "Shape(Training and Validation) after formatting: (32298, 48, 48, 3)\n",
            "_______Test Data_______\n",
            "Shape(Test) after formatting: (3589, 48, 48, 3)\n"
          ]
        }
      ]
    },
    {
      "cell_type": "code",
      "source": [
        "#plt.imshow(cv2.cvtColor(img_array, cv2.COLOR_BGR2RGB))\n",
        "plt.imshow(img_array/255.0)"
      ],
      "metadata": {
        "colab": {
          "base_uri": "https://localhost:8080/",
          "height": 449
        },
        "id": "ZxacWnzsi7Ac",
        "outputId": "cb3caad9-47d9-4688-bcbd-3835c060d3c3"
      },
      "id": "ZxacWnzsi7Ac",
      "execution_count": null,
      "outputs": [
        {
          "output_type": "execute_result",
          "data": {
            "text/plain": [
              "<matplotlib.image.AxesImage at 0x7f328d195070>"
            ]
          },
          "metadata": {},
          "execution_count": 38
        },
        {
          "output_type": "display_data",
          "data": {
            "text/plain": [
              "<Figure size 640x480 with 1 Axes>"
            ],
            "image/png": "[encoded data removed]"
          },
          "metadata": {}
        }
      ]
    },
    {
      "cell_type": "code",
      "execution_count": null,
      "metadata": {
        "colab": {
          "base_uri": "https://localhost:8080/"
        },
        "id": "Appv8RnCa70H",
        "outputId": "46da805e-81a3-4db4-80e2-b87003e96a5b"
      },
      "outputs": [
        {
          "output_type": "stream",
          "name": "stdout",
          "text": [
            "____________________Training and Validation Labels____________________\n",
            "Training Label shape after one-hot encoding: (32298, 7)\n",
            "Training Sample label: [1. 0. 0. 0. 0. 0. 0.]\n",
            "____________________Test Labels____________________\n",
            "Training Label shape after one-hot encoding: (3589, 7)\n",
            "Training Sample label: [0. 0. 0. 0. 1. 0. 0.]\n"
          ]
        }
      ],
      "source": [
        "print('____________________Training and Validation Labels____________________')\n",
        "train_val_img_labels = k.utils.to_categorical(df_train.emotion)\n",
        "print('Training Label shape after one-hot encoding: ' + str(train_val_img_labels.shape))\n",
        "print('Training Sample label: ' + str(train_val_img_labels[0]))\n",
        "\n",
        "print('____________________Test Labels____________________')\n",
        "test_img_labels = k.utils.to_categorical(df_test.emotion)\n",
        "print('Training Label shape after one-hot encoding: ' + str(test_img_labels.shape))\n",
        "print('Training Sample label: ' + str(test_img_labels[50]))"
      ],
      "id": "Appv8RnCa70H"
    },
    {
      "cell_type": "code",
      "execution_count": null,
      "metadata": {
        "id": "vZXK-M45a70H"
      },
      "outputs": [],
      "source": [
        "#Data Augmentation\n",
        "train_val_datagen = ImageDataGenerator(rotation_range = 20,\n",
        "                                       rescale=1./255,\n",
        "                                       zoom_range = 0.0,\n",
        "                                       horizontal_flip = True,\n",
        "                                       shear_range = 0.1,\n",
        "                                       validation_split = 0.2)\n",
        "\n",
        "train_data = train_val_datagen.flow(train_val_img_array,\n",
        "                                    train_val_img_labels,\n",
        "                                    batch_size = 32,\n",
        "                                    shuffle = True,\n",
        "                                    subset = 'training')\n",
        "\n",
        "val_data = train_val_datagen.flow(train_val_img_array,\n",
        "                                  train_val_img_labels,\n",
        "                                  batch_size = 32,\n",
        "                                  shuffle = True,\n",
        "                                  subset = 'validation')\n",
        "\n",
        "test_datagen = ImageDataGenerator(rescale=1./255)\n",
        "\n",
        "test_data = test_datagen.flow(test_img_array,\n",
        "                              test_img_labels,\n",
        "                              batch_size = 32,\n",
        "                              shuffle = False)"
      ],
      "id": "vZXK-M45a70H"
    },
    {
      "cell_type": "code",
      "source": [
        "### RESNET50\n",
        "from keras.api._v2.keras import activations\n",
        "from tensorflow.keras.applications.resnet50 import ResNet50\n",
        "\n",
        "rs_net = ResNet50(weights = 'imagenet', include_top = False, input_shape = (48,48,3))\n",
        "\n",
        "\n",
        "base_input = rs_net.layers[0].input\n",
        "\n",
        "base_output = rs_net.layers[-1].output\n",
        "final_output = tf.keras.layers.Flatten()(base_output)\n",
        "final_output = tf.keras.layers.Dense(128)(final_output)\n",
        "final_output = tf.keras.layers.Activation('relu')(final_output)\n",
        "final_output = tf.keras.layers.Dense(64)(final_output)\n",
        "final_output = tf.keras.layers.Activation('relu')(final_output)\n",
        "final_output_1 = tf.keras.layers.Dense(7, activation = 'softmax')(final_output)\n",
        "\n",
        "\n",
        "model = tf.keras.Model(inputs = base_input, outputs = final_output_1)"
      ],
      "metadata": {
        "colab": {
          "base_uri": "https://localhost:8080/",
          "height": 91
        },
        "id": "0ukOFVO8BdG2",
        "outputId": "e05a8287-ce3d-4f00-9587-8fab04ade9e8"
      },
      "id": "0ukOFVO8BdG2",
      "execution_count": null,
      "outputs": [
        {
          "output_type": "stream",
          "name": "stdout",
          "text": [
            "Downloading data from https://storage.googleapis.com/tensorflow/keras-applications/resnet/resnet50_weights_tf_dim_ordering_tf_kernels_notop.h5\n",
            "94765736/94765736 [==============================] - 1s 0us/step\n"
          ]
        },
        {
          "output_type": "execute_result",
          "data": {
            "text/plain": [
              "'for layer in base_model.layers:\\n  layer.trainable = False'"
            ],
            "application/vnd.google.colaboratory.intrinsic+json": {
              "type": "string"
            }
          },
          "metadata": {},
          "execution_count": 7
        }
      ]
    },
    {
      "cell_type": "code",
      "source": [
        "#Resnet Model Summary\n",
        "model.summary()"
      ],
      "metadata": {
        "colab": {
          "base_uri": "https://localhost:8080/"
        },
        "id": "4uGFrVJ-wrXX",
        "outputId": "6e8cd9fb-81fb-4236-f1f1-10cbbae18ac7"
      },
      "id": "4uGFrVJ-wrXX",
      "execution_count": null,
      "outputs": [
        {
          "output_type": "stream",
          "name": "stdout",
          "text": [
            "Model: \"model\"\n",
            "__________________________________________________________________________________________________\n",
            " Layer (type)                   Output Shape         Param #     Connected to                     \n",
            "==================================================================================================\n",
            " input_1 (InputLayer)           [(None, 48, 48, 3)]  0           []                               \n",
            "                                                                                                  \n",
            " conv1_pad (ZeroPadding2D)      (None, 54, 54, 3)    0           ['input_1[0][0]']                \n",
            "                                                                                                  \n",
            " conv1_conv (Conv2D)            (None, 24, 24, 64)   9472        ['conv1_pad[0][0]']              \n",
            "                                                                                                  \n",
            " conv1_bn (BatchNormalization)  (None, 24, 24, 64)   256         ['conv1_conv[0][0]']             \n",
            "                                                                                                  \n",
            " conv1_relu (Activation)        (None, 24, 24, 64)   0           ['conv1_bn[0][0]']               \n",
            "                                                                                                  \n",
            " pool1_pad (ZeroPadding2D)      (None, 26, 26, 64)   0           ['conv1_relu[0][0]']             \n",
            "                                                                                                  \n",
            " pool1_pool (MaxPooling2D)      (None, 12, 12, 64)   0           ['pool1_pad[0][0]']              \n",
            "                                                                                                  \n",
            " conv2_block1_1_conv (Conv2D)   (None, 12, 12, 64)   4160        ['pool1_pool[0][0]']             \n",
            "                                                                                                  \n",
            " conv2_block1_1_bn (BatchNormal  (None, 12, 12, 64)  256         ['conv2_block1_1_conv[0][0]']    \n",
            " ization)                                                                                         \n",
            "                                                                                                  \n",
            " conv2_block1_1_relu (Activatio  (None, 12, 12, 64)  0           ['conv2_block1_1_bn[0][0]']      \n",
            " n)                                                                                               \n",
            "                                                                                                  \n",
            " conv2_block1_2_conv (Conv2D)   (None, 12, 12, 64)   36928       ['conv2_block1_1_relu[0][0]']    \n",
            "                                                                                                  \n",
            " conv2_block1_2_bn (BatchNormal  (None, 12, 12, 64)  256         ['conv2_block1_2_conv[0][0]']    \n",
            " ization)                                                                                         \n",
            "                                                                                                  \n",
            " conv2_block1_2_relu (Activatio  (None, 12, 12, 64)  0           ['conv2_block1_2_bn[0][0]']      \n",
            " n)                                                                                               \n",
            "                                                                                                  \n",
            " conv2_block1_0_conv (Conv2D)   (None, 12, 12, 256)  16640       ['pool1_pool[0][0]']             \n",
            "                                                                                                  \n",
            " conv2_block1_3_conv (Conv2D)   (None, 12, 12, 256)  16640       ['conv2_block1_2_relu[0][0]']    \n",
            "                                                                                                  \n",
            " conv2_block1_0_bn (BatchNormal  (None, 12, 12, 256)  1024       ['conv2_block1_0_conv[0][0]']    \n",
            " ization)                                                                                         \n",
            "                                                                                                  \n",
            " conv2_block1_3_bn (BatchNormal  (None, 12, 12, 256)  1024       ['conv2_block1_3_conv[0][0]']    \n",
            " ization)                                                                                         \n",
            "                                                                                                  \n",
            " conv2_block1_add (Add)         (None, 12, 12, 256)  0           ['conv2_block1_0_bn[0][0]',      \n",
            "                                                                  'conv2_block1_3_bn[0][0]']      \n",
            "                                                                                                  \n",
            " conv2_block1_out (Activation)  (None, 12, 12, 256)  0           ['conv2_block1_add[0][0]']       \n",
            "                                                                                                  \n",
            " conv2_block2_1_conv (Conv2D)   (None, 12, 12, 64)   16448       ['conv2_block1_out[0][0]']       \n",
            "                                                                                                  \n",
            " conv2_block2_1_bn (BatchNormal  (None, 12, 12, 64)  256         ['conv2_block2_1_conv[0][0]']    \n",
            " ization)                                                                                         \n",
            "                                                                                                  \n",
            " conv2_block2_1_relu (Activatio  (None, 12, 12, 64)  0           ['conv2_block2_1_bn[0][0]']      \n",
            " n)                                                                                               \n",
            "                                                                                                  \n",
            " conv2_block2_2_conv (Conv2D)   (None, 12, 12, 64)   36928       ['conv2_block2_1_relu[0][0]']    \n",
            "                                                                                                  \n",
            " conv2_block2_2_bn (BatchNormal  (None, 12, 12, 64)  256         ['conv2_block2_2_conv[0][0]']    \n",
            " ization)                                                                                         \n",
            "                                                                                                  \n",
            " conv2_block2_2_relu (Activatio  (None, 12, 12, 64)  0           ['conv2_block2_2_bn[0][0]']      \n",
            " n)                                                                                               \n",
            "                                                                                                  \n",
            " conv2_block2_3_conv (Conv2D)   (None, 12, 12, 256)  16640       ['conv2_block2_2_relu[0][0]']    \n",
            "                                                                                                  \n",
            " conv2_block2_3_bn (BatchNormal  (None, 12, 12, 256)  1024       ['conv2_block2_3_conv[0][0]']    \n",
            " ization)                                                                                         \n",
            "                                                                                                  \n",
            " conv2_block2_add (Add)         (None, 12, 12, 256)  0           ['conv2_block1_out[0][0]',       \n",
            "                                                                  'conv2_block2_3_bn[0][0]']      \n",
            "                                                                                                  \n",
            " conv2_block2_out (Activation)  (None, 12, 12, 256)  0           ['conv2_block2_add[0][0]']       \n",
            "                                                                                                  \n",
            " conv2_block3_1_conv (Conv2D)   (None, 12, 12, 64)   16448       ['conv2_block2_out[0][0]']       \n",
            "                                                                                                  \n",
            " conv2_block3_1_bn (BatchNormal  (None, 12, 12, 64)  256         ['conv2_block3_1_conv[0][0]']    \n",
            " ization)                                                                                         \n",
            "                                                                                                  \n",
            " conv2_block3_1_relu (Activatio  (None, 12, 12, 64)  0           ['conv2_block3_1_bn[0][0]']      \n",
            " n)                                                                                               \n",
            "                                                                                                  \n",
            " conv2_block3_2_conv (Conv2D)   (None, 12, 12, 64)   36928       ['conv2_block3_1_relu[0][0]']    \n",
            "                                                                                                  \n",
            " conv2_block3_2_bn (BatchNormal  (None, 12, 12, 64)  256         ['conv2_block3_2_conv[0][0]']    \n",
            " ization)                                                                                         \n",
            "                                                                                                  \n",
            " conv2_block3_2_relu (Activatio  (None, 12, 12, 64)  0           ['conv2_block3_2_bn[0][0]']      \n",
            " n)                                                                                               \n",
            "                                                                                                  \n",
            " conv2_block3_3_conv (Conv2D)   (None, 12, 12, 256)  16640       ['conv2_block3_2_relu[0][0]']    \n",
            "                                                                                                  \n",
            " conv2_block3_3_bn (BatchNormal  (None, 12, 12, 256)  1024       ['conv2_block3_3_conv[0][0]']    \n",
            " ization)                                                                                         \n",
            "                                                                                                  \n",
            " conv2_block3_add (Add)         (None, 12, 12, 256)  0           ['conv2_block2_out[0][0]',       \n",
            "                                                                  'conv2_block3_3_bn[0][0]']      \n",
            "                                                                                                  \n",
            " conv2_block3_out (Activation)  (None, 12, 12, 256)  0           ['conv2_block3_add[0][0]']       \n",
            "                                                                                                  \n",
            " conv3_block1_1_conv (Conv2D)   (None, 6, 6, 128)    32896       ['conv2_block3_out[0][0]']       \n",
            "                                                                                                  \n",
            " conv3_block1_1_bn (BatchNormal  (None, 6, 6, 128)   512         ['conv3_block1_1_conv[0][0]']    \n",
            " ization)                                                                                         \n",
            "                                                                                                  \n",
            " conv3_block1_1_relu (Activatio  (None, 6, 6, 128)   0           ['conv3_block1_1_bn[0][0]']      \n",
            " n)                                                                                               \n",
            "                                                                                                  \n",
            " conv3_block1_2_conv (Conv2D)   (None, 6, 6, 128)    147584      ['conv3_block1_1_relu[0][0]']    \n",
            "                                                                                                  \n",
            " conv3_block1_2_bn (BatchNormal  (None, 6, 6, 128)   512         ['conv3_block1_2_conv[0][0]']    \n",
            " ization)                                                                                         \n",
            "                                                                                                  \n",
            " conv3_block1_2_relu (Activatio  (None, 6, 6, 128)   0           ['conv3_block1_2_bn[0][0]']      \n",
            " n)                                                                                               \n",
            "                                                                                                  \n",
            " conv3_block1_0_conv (Conv2D)   (None, 6, 6, 512)    131584      ['conv2_block3_out[0][0]']       \n",
            "                                                                                                  \n",
            " conv3_block1_3_conv (Conv2D)   (None, 6, 6, 512)    66048       ['conv3_block1_2_relu[0][0]']    \n",
            "                                                                                                  \n",
            " conv3_block1_0_bn (BatchNormal  (None, 6, 6, 512)   2048        ['conv3_block1_0_conv[0][0]']    \n",
            " ization)                                                                                         \n",
            "                                                                                                  \n",
            " conv3_block1_3_bn (BatchNormal  (None, 6, 6, 512)   2048        ['conv3_block1_3_conv[0][0]']    \n",
            " ization)                                                                                         \n",
            "                                                                                                  \n",
            " conv3_block1_add (Add)         (None, 6, 6, 512)    0           ['conv3_block1_0_bn[0][0]',      \n",
            "                                                                  'conv3_block1_3_bn[0][0]']      \n",
            "                                                                                                  \n",
            " conv3_block1_out (Activation)  (None, 6, 6, 512)    0           ['conv3_block1_add[0][0]']       \n",
            "                                                                                                  \n",
            " conv3_block2_1_conv (Conv2D)   (None, 6, 6, 128)    65664       ['conv3_block1_out[0][0]']       \n",
            "                                                                                                  \n",
            " conv3_block2_1_bn (BatchNormal  (None, 6, 6, 128)   512         ['conv3_block2_1_conv[0][0]']    \n",
            " ization)                                                                                         \n",
            "                                                                                                  \n",
            " conv3_block2_1_relu (Activatio  (None, 6, 6, 128)   0           ['conv3_block2_1_bn[0][0]']      \n",
            " n)                                                                                               \n",
            "                                                                                                  \n",
            " conv3_block2_2_conv (Conv2D)   (None, 6, 6, 128)    147584      ['conv3_block2_1_relu[0][0]']    \n",
            "                                                                                                  \n",
            " conv3_block2_2_bn (BatchNormal  (None, 6, 6, 128)   512         ['conv3_block2_2_conv[0][0]']    \n",
            " ization)                                                                                         \n",
            "                                                                                                  \n",
            " conv3_block2_2_relu (Activatio  (None, 6, 6, 128)   0           ['conv3_block2_2_bn[0][0]']      \n",
            " n)                                                                                               \n",
            "                                                                                                  \n",
            " conv3_block2_3_conv (Conv2D)   (None, 6, 6, 512)    66048       ['conv3_block2_2_relu[0][0]']    \n",
            "                                                                                                  \n",
            " conv3_block2_3_bn (BatchNormal  (None, 6, 6, 512)   2048        ['conv3_block2_3_conv[0][0]']    \n",
            " ization)                                                                                         \n",
            "                                                                                                  \n",
            " conv3_block2_add (Add)         (None, 6, 6, 512)    0           ['conv3_block1_out[0][0]',       \n",
            "                                                                  'conv3_block2_3_bn[0][0]']      \n",
            "                                                                                                  \n",
            " conv3_block2_out (Activation)  (None, 6, 6, 512)    0           ['conv3_block2_add[0][0]']       \n",
            "                                                                                                  \n",
            " conv3_block3_1_conv (Conv2D)   (None, 6, 6, 128)    65664       ['conv3_block2_out[0][0]']       \n",
            "                                                                                                  \n",
            " conv3_block3_1_bn (BatchNormal  (None, 6, 6, 128)   512         ['conv3_block3_1_conv[0][0]']    \n",
            " ization)                                                                                         \n",
            "                                                                                                  \n",
            " conv3_block3_1_relu (Activatio  (None, 6, 6, 128)   0           ['conv3_block3_1_bn[0][0]']      \n",
            " n)                                                                                               \n",
            "                                                                                                  \n",
            " conv3_block3_2_conv (Conv2D)   (None, 6, 6, 128)    147584      ['conv3_block3_1_relu[0][0]']    \n",
            "                                                                                                  \n",
            " conv3_block3_2_bn (BatchNormal  (None, 6, 6, 128)   512         ['conv3_block3_2_conv[0][0]']    \n",
            " ization)                                                                                         \n",
            "                                                                                                  \n",
            " conv3_block3_2_relu (Activatio  (None, 6, 6, 128)   0           ['conv3_block3_2_bn[0][0]']      \n",
            " n)                                                                                               \n",
            "                                                                                                  \n",
            " conv3_block3_3_conv (Conv2D)   (None, 6, 6, 512)    66048       ['conv3_block3_2_relu[0][0]']    \n",
            "                                                                                                  \n",
            " conv3_block3_3_bn (BatchNormal  (None, 6, 6, 512)   2048        ['conv3_block3_3_conv[0][0]']    \n",
            " ization)                                                                                         \n",
            "                                                                                                  \n",
            " conv3_block3_add (Add)         (None, 6, 6, 512)    0           ['conv3_block2_out[0][0]',       \n",
            "                                                                  'conv3_block3_3_bn[0][0]']      \n",
            "                                                                                                  \n",
            " conv3_block3_out (Activation)  (None, 6, 6, 512)    0           ['conv3_block3_add[0][0]']       \n",
            "                                                                                                  \n",
            " conv3_block4_1_conv (Conv2D)   (None, 6, 6, 128)    65664       ['conv3_block3_out[0][0]']       \n",
            "                                                                                                  \n",
            " conv3_block4_1_bn (BatchNormal  (None, 6, 6, 128)   512         ['conv3_block4_1_conv[0][0]']    \n",
            " ization)                                                                                         \n",
            "                                                                                                  \n",
            " conv3_block4_1_relu (Activatio  (None, 6, 6, 128)   0           ['conv3_block4_1_bn[0][0]']      \n",
            " n)                                                                                               \n",
            "                                                                                                  \n",
            " conv3_block4_2_conv (Conv2D)   (None, 6, 6, 128)    147584      ['conv3_block4_1_relu[0][0]']    \n",
            "                                                                                                  \n",
            " conv3_block4_2_bn (BatchNormal  (None, 6, 6, 128)   512         ['conv3_block4_2_conv[0][0]']    \n",
            " ization)                                                                                         \n",
            "                                                                                                  \n",
            " conv3_block4_2_relu (Activatio  (None, 6, 6, 128)   0           ['conv3_block4_2_bn[0][0]']      \n",
            " n)                                                                                               \n",
            "                                                                                                  \n",
            " conv3_block4_3_conv (Conv2D)   (None, 6, 6, 512)    66048       ['conv3_block4_2_relu[0][0]']    \n",
            "                                                                                                  \n",
            " conv3_block4_3_bn (BatchNormal  (None, 6, 6, 512)   2048        ['conv3_block4_3_conv[0][0]']    \n",
            " ization)                                                                                         \n",
            "                                                                                                  \n",
            " conv3_block4_add (Add)         (None, 6, 6, 512)    0           ['conv3_block3_out[0][0]',       \n",
            "                                                                  'conv3_block4_3_bn[0][0]']      \n",
            "                                                                                                  \n",
            " conv3_block4_out (Activation)  (None, 6, 6, 512)    0           ['conv3_block4_add[0][0]']       \n",
            "                                                                                                  \n",
            " conv4_block1_1_conv (Conv2D)   (None, 3, 3, 256)    131328      ['conv3_block4_out[0][0]']       \n",
            "                                                                                                  \n",
            " conv4_block1_1_bn (BatchNormal  (None, 3, 3, 256)   1024        ['conv4_block1_1_conv[0][0]']    \n",
            " ization)                                                                                         \n",
            "                                                                                                  \n",
            " conv4_block1_1_relu (Activatio  (None, 3, 3, 256)   0           ['conv4_block1_1_bn[0][0]']      \n",
            " n)                                                                                               \n",
            "                                                                                                  \n",
            " conv4_block1_2_conv (Conv2D)   (None, 3, 3, 256)    590080      ['conv4_block1_1_relu[0][0]']    \n",
            "                                                                                                  \n",
            " conv4_block1_2_bn (BatchNormal  (None, 3, 3, 256)   1024        ['conv4_block1_2_conv[0][0]']    \n",
            " ization)                                                                                         \n",
            "                                                                                                  \n",
            " conv4_block1_2_relu (Activatio  (None, 3, 3, 256)   0           ['conv4_block1_2_bn[0][0]']      \n",
            " n)                                                                                               \n",
            "                                                                                                  \n",
            " conv4_block1_0_conv (Conv2D)   (None, 3, 3, 1024)   525312      ['conv3_block4_out[0][0]']       \n",
            "                                                                                                  \n",
            " conv4_block1_3_conv (Conv2D)   (None, 3, 3, 1024)   263168      ['conv4_block1_2_relu[0][0]']    \n",
            "                                                                                                  \n",
            " conv4_block1_0_bn (BatchNormal  (None, 3, 3, 1024)  4096        ['conv4_block1_0_conv[0][0]']    \n",
            " ization)                                                                                         \n",
            "                                                                                                  \n",
            " conv4_block1_3_bn (BatchNormal  (None, 3, 3, 1024)  4096        ['conv4_block1_3_conv[0][0]']    \n",
            " ization)                                                                                         \n",
            "                                                                                                  \n",
            " conv4_block1_add (Add)         (None, 3, 3, 1024)   0           ['conv4_block1_0_bn[0][0]',      \n",
            "                                                                  'conv4_block1_3_bn[0][0]']      \n",
            "                                                                                                  \n",
            " conv4_block1_out (Activation)  (None, 3, 3, 1024)   0           ['conv4_block1_add[0][0]']       \n",
            "                                                                                                  \n",
            " conv4_block2_1_conv (Conv2D)   (None, 3, 3, 256)    262400      ['conv4_block1_out[0][0]']       \n",
            "                                                                                                  \n",
            " conv4_block2_1_bn (BatchNormal  (None, 3, 3, 256)   1024        ['conv4_block2_1_conv[0][0]']    \n",
            " ization)                                                                                         \n",
            "                                                                                                  \n",
            " conv4_block2_1_relu (Activatio  (None, 3, 3, 256)   0           ['conv4_block2_1_bn[0][0]']      \n",
            " n)                                                                                               \n",
            "                                                                                                  \n",
            " conv4_block2_2_conv (Conv2D)   (None, 3, 3, 256)    590080      ['conv4_block2_1_relu[0][0]']    \n",
            "                                                                                                  \n",
            " conv4_block2_2_bn (BatchNormal  (None, 3, 3, 256)   1024        ['conv4_block2_2_conv[0][0]']    \n",
            " ization)                                                                                         \n",
            "                                                                                                  \n",
            " conv4_block2_2_relu (Activatio  (None, 3, 3, 256)   0           ['conv4_block2_2_bn[0][0]']      \n",
            " n)                                                                                               \n",
            "                                                                                                  \n",
            " conv4_block2_3_conv (Conv2D)   (None, 3, 3, 1024)   263168      ['conv4_block2_2_relu[0][0]']    \n",
            "                                                                                                  \n",
            " conv4_block2_3_bn (BatchNormal  (None, 3, 3, 1024)  4096        ['conv4_block2_3_conv[0][0]']    \n",
            " ization)                                                                                         \n",
            "                                                                                                  \n",
            " conv4_block2_add (Add)         (None, 3, 3, 1024)   0           ['conv4_block1_out[0][0]',       \n",
            "                                                                  'conv4_block2_3_bn[0][0]']      \n",
            "                                                                                                  \n",
            " conv4_block2_out (Activation)  (None, 3, 3, 1024)   0           ['conv4_block2_add[0][0]']       \n",
            "                                                                                                  \n",
            " conv4_block3_1_conv (Conv2D)   (None, 3, 3, 256)    262400      ['conv4_block2_out[0][0]']       \n",
            "                                                                                                  \n",
            " conv4_block3_1_bn (BatchNormal  (None, 3, 3, 256)   1024        ['conv4_block3_1_conv[0][0]']    \n",
            " ization)                                                                                         \n",
            "                                                                                                  \n",
            " conv4_block3_1_relu (Activatio  (None, 3, 3, 256)   0           ['conv4_block3_1_bn[0][0]']      \n",
            " n)                                                                                               \n",
            "                                                                                                  \n",
            " conv4_block3_2_conv (Conv2D)   (None, 3, 3, 256)    590080      ['conv4_block3_1_relu[0][0]']    \n",
            "                                                                                                  \n",
            " conv4_block3_2_bn (BatchNormal  (None, 3, 3, 256)   1024        ['conv4_block3_2_conv[0][0]']    \n",
            " ization)                                                                                         \n",
            "                                                                                                  \n",
            " conv4_block3_2_relu (Activatio  (None, 3, 3, 256)   0           ['conv4_block3_2_bn[0][0]']      \n",
            " n)                                                                                               \n",
            "                                                                                                  \n",
            " conv4_block3_3_conv (Conv2D)   (None, 3, 3, 1024)   263168      ['conv4_block3_2_relu[0][0]']    \n",
            "                                                                                                  \n",
            " conv4_block3_3_bn (BatchNormal  (None, 3, 3, 1024)  4096        ['conv4_block3_3_conv[0][0]']    \n",
            " ization)                                                                                         \n",
            "                                                                                                  \n",
            " conv4_block3_add (Add)         (None, 3, 3, 1024)   0           ['conv4_block2_out[0][0]',       \n",
            "                                                                  'conv4_block3_3_bn[0][0]']      \n",
            "                                                                                                  \n",
            " conv4_block3_out (Activation)  (None, 3, 3, 1024)   0           ['conv4_block3_add[0][0]']       \n",
            "                                                                                                  \n",
            " conv4_block4_1_conv (Conv2D)   (None, 3, 3, 256)    262400      ['conv4_block3_out[0][0]']       \n",
            "                                                                                                  \n",
            " conv4_block4_1_bn (BatchNormal  (None, 3, 3, 256)   1024        ['conv4_block4_1_conv[0][0]']    \n",
            " ization)                                                                                         \n",
            "                                                                                                  \n",
            " conv4_block4_1_relu (Activatio  (None, 3, 3, 256)   0           ['conv4_block4_1_bn[0][0]']      \n",
            " n)                                                                                               \n",
            "                                                                                                  \n",
            " conv4_block4_2_conv (Conv2D)   (None, 3, 3, 256)    590080      ['conv4_block4_1_relu[0][0]']    \n",
            "                                                                                                  \n",
            " conv4_block4_2_bn (BatchNormal  (None, 3, 3, 256)   1024        ['conv4_block4_2_conv[0][0]']    \n",
            " ization)                                                                                         \n",
            "                                                                                                  \n",
            " conv4_block4_2_relu (Activatio  (None, 3, 3, 256)   0           ['conv4_block4_2_bn[0][0]']      \n",
            " n)                                                                                               \n",
            "                                                                                                  \n",
            " conv4_block4_3_conv (Conv2D)   (None, 3, 3, 1024)   263168      ['conv4_block4_2_relu[0][0]']    \n",
            "                                                                                                  \n",
            " conv4_block4_3_bn (BatchNormal  (None, 3, 3, 1024)  4096        ['conv4_block4_3_conv[0][0]']    \n",
            " ization)                                                                                         \n",
            "                                                                                                  \n",
            " conv4_block4_add (Add)         (None, 3, 3, 1024)   0           ['conv4_block3_out[0][0]',       \n",
            "                                                                  'conv4_block4_3_bn[0][0]']      \n",
            "                                                                                                  \n",
            " conv4_block4_out (Activation)  (None, 3, 3, 1024)   0           ['conv4_block4_add[0][0]']       \n",
            "                                                                                                  \n",
            " conv4_block5_1_conv (Conv2D)   (None, 3, 3, 256)    262400      ['conv4_block4_out[0][0]']       \n",
            "                                                                                                  \n",
            " conv4_block5_1_bn (BatchNormal  (None, 3, 3, 256)   1024        ['conv4_block5_1_conv[0][0]']    \n",
            " ization)                                                                                         \n",
            "                                                                                                  \n",
            " conv4_block5_1_relu (Activatio  (None, 3, 3, 256)   0           ['conv4_block5_1_bn[0][0]']      \n",
            " n)                                                                                               \n",
            "                                                                                                  \n",
            " conv4_block5_2_conv (Conv2D)   (None, 3, 3, 256)    590080      ['conv4_block5_1_relu[0][0]']    \n",
            "                                                                                                  \n",
            " conv4_block5_2_bn (BatchNormal  (None, 3, 3, 256)   1024        ['conv4_block5_2_conv[0][0]']    \n",
            " ization)                                                                                         \n",
            "                                                                                                  \n",
            " conv4_block5_2_relu (Activatio  (None, 3, 3, 256)   0           ['conv4_block5_2_bn[0][0]']      \n",
            " n)                                                                                               \n",
            "                                                                                                  \n",
            " conv4_block5_3_conv (Conv2D)   (None, 3, 3, 1024)   263168      ['conv4_block5_2_relu[0][0]']    \n",
            "                                                                                                  \n",
            " conv4_block5_3_bn (BatchNormal  (None, 3, 3, 1024)  4096        ['conv4_block5_3_conv[0][0]']    \n",
            " ization)                                                                                         \n",
            "                                                                                                  \n",
            " conv4_block5_add (Add)         (None, 3, 3, 1024)   0           ['conv4_block4_out[0][0]',       \n",
            "                                                                  'conv4_block5_3_bn[0][0]']      \n",
            "                                                                                                  \n",
            " conv4_block5_out (Activation)  (None, 3, 3, 1024)   0           ['conv4_block5_add[0][0]']       \n",
            "                                                                                                  \n",
            " conv4_block6_1_conv (Conv2D)   (None, 3, 3, 256)    262400      ['conv4_block5_out[0][0]']       \n",
            "                                                                                                  \n",
            " conv4_block6_1_bn (BatchNormal  (None, 3, 3, 256)   1024        ['conv4_block6_1_conv[0][0]']    \n",
            " ization)                                                                                         \n",
            "                                                                                                  \n",
            " conv4_block6_1_relu (Activatio  (None, 3, 3, 256)   0           ['conv4_block6_1_bn[0][0]']      \n",
            " n)                                                                                               \n",
            "                                                                                                  \n",
            " conv4_block6_2_conv (Conv2D)   (None, 3, 3, 256)    590080      ['conv4_block6_1_relu[0][0]']    \n",
            "                                                                                                  \n",
            " conv4_block6_2_bn (BatchNormal  (None, 3, 3, 256)   1024        ['conv4_block6_2_conv[0][0]']    \n",
            " ization)                                                                                         \n",
            "                                                                                                  \n",
            " conv4_block6_2_relu (Activatio  (None, 3, 3, 256)   0           ['conv4_block6_2_bn[0][0]']      \n",
            " n)                                                                                               \n",
            "                                                                                                  \n",
            " conv4_block6_3_conv (Conv2D)   (None, 3, 3, 1024)   263168      ['conv4_block6_2_relu[0][0]']    \n",
            "                                                                                                  \n",
            " conv4_block6_3_bn (BatchNormal  (None, 3, 3, 1024)  4096        ['conv4_block6_3_conv[0][0]']    \n",
            " ization)                                                                                         \n",
            "                                                                                                  \n",
            " conv4_block6_add (Add)         (None, 3, 3, 1024)   0           ['conv4_block5_out[0][0]',       \n",
            "                                                                  'conv4_block6_3_bn[0][0]']      \n",
            "                                                                                                  \n",
            " conv4_block6_out (Activation)  (None, 3, 3, 1024)   0           ['conv4_block6_add[0][0]']       \n",
            "                                                                                                  \n",
            " conv5_block1_1_conv (Conv2D)   (None, 2, 2, 512)    524800      ['conv4_block6_out[0][0]']       \n",
            "                                                                                                  \n",
            " conv5_block1_1_bn (BatchNormal  (None, 2, 2, 512)   2048        ['conv5_block1_1_conv[0][0]']    \n",
            " ization)                                                                                         \n",
            "                                                                                                  \n",
            " conv5_block1_1_relu (Activatio  (None, 2, 2, 512)   0           ['conv5_block1_1_bn[0][0]']      \n",
            " n)                                                                                               \n",
            "                                                                                                  \n",
            " conv5_block1_2_conv (Conv2D)   (None, 2, 2, 512)    2359808     ['conv5_block1_1_relu[0][0]']    \n",
            "                                                                                                  \n",
            " conv5_block1_2_bn (BatchNormal  (None, 2, 2, 512)   2048        ['conv5_block1_2_conv[0][0]']    \n",
            " ization)                                                                                         \n",
            "                                                                                                  \n",
            " conv5_block1_2_relu (Activatio  (None, 2, 2, 512)   0           ['conv5_block1_2_bn[0][0]']      \n",
            " n)                                                                                               \n",
            "                                                                                                  \n",
            " conv5_block1_0_conv (Conv2D)   (None, 2, 2, 2048)   2099200     ['conv4_block6_out[0][0]']       \n",
            "                                                                                                  \n",
            " conv5_block1_3_conv (Conv2D)   (None, 2, 2, 2048)   1050624     ['conv5_block1_2_relu[0][0]']    \n",
            "                                                                                                  \n",
            " conv5_block1_0_bn (BatchNormal  (None, 2, 2, 2048)  8192        ['conv5_block1_0_conv[0][0]']    \n",
            " ization)                                                                                         \n",
            "                                                                                                  \n",
            " conv5_block1_3_bn (BatchNormal  (None, 2, 2, 2048)  8192        ['conv5_block1_3_conv[0][0]']    \n",
            " ization)                                                                                         \n",
            "                                                                                                  \n",
            " conv5_block1_add (Add)         (None, 2, 2, 2048)   0           ['conv5_block1_0_bn[0][0]',      \n",
            "                                                                  'conv5_block1_3_bn[0][0]']      \n",
            "                                                                                                  \n",
            " conv5_block1_out (Activation)  (None, 2, 2, 2048)   0           ['conv5_block1_add[0][0]']       \n",
            "                                                                                                  \n",
            " conv5_block2_1_conv (Conv2D)   (None, 2, 2, 512)    1049088     ['conv5_block1_out[0][0]']       \n",
            "                                                                                                  \n",
            " conv5_block2_1_bn (BatchNormal  (None, 2, 2, 512)   2048        ['conv5_block2_1_conv[0][0]']    \n",
            " ization)                                                                                         \n",
            "                                                                                                  \n",
            " conv5_block2_1_relu (Activatio  (None, 2, 2, 512)   0           ['conv5_block2_1_bn[0][0]']      \n",
            " n)                                                                                               \n",
            "                                                                                                  \n",
            " conv5_block2_2_conv (Conv2D)   (None, 2, 2, 512)    2359808     ['conv5_block2_1_relu[0][0]']    \n",
            "                                                                                                  \n",
            " conv5_block2_2_bn (BatchNormal  (None, 2, 2, 512)   2048        ['conv5_block2_2_conv[0][0]']    \n",
            " ization)                                                                                         \n",
            "                                                                                                  \n",
            " conv5_block2_2_relu (Activatio  (None, 2, 2, 512)   0           ['conv5_block2_2_bn[0][0]']      \n",
            " n)                                                                                               \n",
            "                                                                                                  \n",
            " conv5_block2_3_conv (Conv2D)   (None, 2, 2, 2048)   1050624     ['conv5_block2_2_relu[0][0]']    \n",
            "                                                                                                  \n",
            " conv5_block2_3_bn (BatchNormal  (None, 2, 2, 2048)  8192        ['conv5_block2_3_conv[0][0]']    \n",
            " ization)                                                                                         \n",
            "                                                                                                  \n",
            " conv5_block2_add (Add)         (None, 2, 2, 2048)   0           ['conv5_block1_out[0][0]',       \n",
            "                                                                  'conv5_block2_3_bn[0][0]']      \n",
            "                                                                                                  \n",
            " conv5_block2_out (Activation)  (None, 2, 2, 2048)   0           ['conv5_block2_add[0][0]']       \n",
            "                                                                                                  \n",
            " conv5_block3_1_conv (Conv2D)   (None, 2, 2, 512)    1049088     ['conv5_block2_out[0][0]']       \n",
            "                                                                                                  \n",
            " conv5_block3_1_bn (BatchNormal  (None, 2, 2, 512)   2048        ['conv5_block3_1_conv[0][0]']    \n",
            " ization)                                                                                         \n",
            "                                                                                                  \n",
            " conv5_block3_1_relu (Activatio  (None, 2, 2, 512)   0           ['conv5_block3_1_bn[0][0]']      \n",
            " n)                                                                                               \n",
            "                                                                                                  \n",
            " conv5_block3_2_conv (Conv2D)   (None, 2, 2, 512)    2359808     ['conv5_block3_1_relu[0][0]']    \n",
            "                                                                                                  \n",
            " conv5_block3_2_bn (BatchNormal  (None, 2, 2, 512)   2048        ['conv5_block3_2_conv[0][0]']    \n",
            " ization)                                                                                         \n",
            "                                                                                                  \n",
            " conv5_block3_2_relu (Activatio  (None, 2, 2, 512)   0           ['conv5_block3_2_bn[0][0]']      \n",
            " n)                                                                                               \n",
            "                                                                                                  \n",
            " conv5_block3_3_conv (Conv2D)   (None, 2, 2, 2048)   1050624     ['conv5_block3_2_relu[0][0]']    \n",
            "                                                                                                  \n",
            " conv5_block3_3_bn (BatchNormal  (None, 2, 2, 2048)  8192        ['conv5_block3_3_conv[0][0]']    \n",
            " ization)                                                                                         \n",
            "                                                                                                  \n",
            " conv5_block3_add (Add)         (None, 2, 2, 2048)   0           ['conv5_block2_out[0][0]',       \n",
            "                                                                  'conv5_block3_3_bn[0][0]']      \n",
            "                                                                                                  \n",
            " conv5_block3_out (Activation)  (None, 2, 2, 2048)   0           ['conv5_block3_add[0][0]']       \n",
            "                                                                                                  \n",
            " flatten (Flatten)              (None, 8192)         0           ['conv5_block3_out[0][0]']       \n",
            "                                                                                                  \n",
            " dense (Dense)                  (None, 512)          4194816     ['flatten[0][0]']                \n",
            "                                                                                                  \n",
            " activation (Activation)        (None, 512)          0           ['dense[0][0]']                  \n",
            "                                                                                                  \n",
            " dense_1 (Dense)                (None, 128)          65664       ['activation[0][0]']             \n",
            "                                                                                                  \n",
            " activation_1 (Activation)      (None, 128)          0           ['dense_1[0][0]']                \n",
            "                                                                                                  \n",
            " dense_2 (Dense)                (None, 7)            903         ['activation_1[0][0]']           \n",
            "                                                                                                  \n",
            "==================================================================================================\n",
            "Total params: 27,849,095\n",
            "Trainable params: 4,261,383\n",
            "Non-trainable params: 23,587,712\n",
            "__________________________________________________________________________________________________\n"
          ]
        }
      ]
    },
    {
      "cell_type": "code",
      "execution_count": null,
      "metadata": {
        "id": "wJdZd_Gea70I"
      },
      "outputs": [],
      "source": [
        "model.compile(loss = \"categorical_crossentropy\",\n",
        "             optimizer = k.optimizers.Adam(learning_rate=0.001, beta_1=0.9, beta_2=0.999),\n",
        "             metrics = [\"accuracy\"])\n",
        "\n",
        "callbacks = [k.callbacks.ModelCheckpoint(filepath=\"/content/drive/MyDrive/model/FER2013_best_model.keras\",\n",
        "                                         save_best_only=True,\n",
        "                                         monitor='val_loss',\n",
        "                                         mode='min'),\n",
        "             k.callbacks.ReduceLROnPlateau(monitor = 'val_loss',\n",
        "                                           factor=0.3,\n",
        "                                           patience=3,\n",
        "                                           min_lr=0.000001,\n",
        "                                           verbose=1,\n",
        "                                           mode='auto')\n",
        "]"
      ],
      "id": "wJdZd_Gea70I"
    },
    {
      "cell_type": "code",
      "execution_count": null,
      "metadata": {
        "colab": {
          "base_uri": "https://localhost:8080/"
        },
        "id": "Bn1auw2Aa70I",
        "outputId": "796d65ae-1425-4de5-f5ed-1a2d4483e8ae"
      },
      "outputs": [
        {
          "output_type": "stream",
          "name": "stdout",
          "text": [
            "Epoch 1/50\n",
            "808/808 [==============================] - 67s 83ms/step - loss: 1.5248 - accuracy: 0.4222 - val_loss: 1.6407 - val_accuracy: 0.3429 - lr: 0.0010\n",
            "Epoch 2/50\n",
            "808/808 [==============================] - 65s 80ms/step - loss: 1.3131 - accuracy: 0.5061 - val_loss: 1.3463 - val_accuracy: 0.4778 - lr: 0.0010\n",
            "Epoch 3/50\n",
            "808/808 [==============================] - 61s 75ms/step - loss: 1.2444 - accuracy: 0.5329 - val_loss: 1.3535 - val_accuracy: 0.5030 - lr: 0.0010\n",
            "Epoch 4/50\n",
            "808/808 [==============================] - 63s 78ms/step - loss: 1.2038 - accuracy: 0.5479 - val_loss: 1.3052 - val_accuracy: 0.5094 - lr: 0.0010\n",
            "Epoch 5/50\n",
            "808/808 [==============================] - 62s 77ms/step - loss: 1.1661 - accuracy: 0.5638 - val_loss: 1.5571 - val_accuracy: 0.4267 - lr: 0.0010\n",
            "Epoch 6/50\n",
            "808/808 [==============================] - 60s 74ms/step - loss: 1.1385 - accuracy: 0.5700 - val_loss: 1.3501 - val_accuracy: 0.4846 - lr: 0.0010\n",
            "Epoch 7/50\n",
            "807/808 [============================>.] - ETA: 0s - loss: 1.1084 - accuracy: 0.5832\n",
            "Epoch 7: ReduceLROnPlateau reducing learning rate to 0.0003000000142492354.\n",
            "808/808 [==============================] - 61s 75ms/step - loss: 1.1085 - accuracy: 0.5831 - val_loss: 1.4166 - val_accuracy: 0.4809 - lr: 0.0010\n",
            "Epoch 8/50\n",
            "808/808 [==============================] - 65s 81ms/step - loss: 0.9899 - accuracy: 0.6309 - val_loss: 1.1007 - val_accuracy: 0.5851 - lr: 3.0000e-04\n",
            "Epoch 9/50\n",
            "808/808 [==============================] - 66s 82ms/step - loss: 0.9477 - accuracy: 0.6465 - val_loss: 1.0917 - val_accuracy: 0.5933 - lr: 3.0000e-04\n",
            "Epoch 10/50\n",
            "808/808 [==============================] - 60s 74ms/step - loss: 0.9161 - accuracy: 0.6601 - val_loss: 1.1022 - val_accuracy: 0.5961 - lr: 3.0000e-04\n",
            "Epoch 11/50\n",
            "808/808 [==============================] - 63s 77ms/step - loss: 0.8960 - accuracy: 0.6648 - val_loss: 1.2031 - val_accuracy: 0.5639 - lr: 3.0000e-04\n",
            "Epoch 12/50\n",
            "807/808 [============================>.] - ETA: 0s - loss: 0.8609 - accuracy: 0.6768\n",
            "Epoch 12: ReduceLROnPlateau reducing learning rate to 9.000000427477062e-05.\n",
            "808/808 [==============================] - 62s 77ms/step - loss: 0.8607 - accuracy: 0.6770 - val_loss: 1.1123 - val_accuracy: 0.5834 - lr: 3.0000e-04\n",
            "Epoch 13/50\n",
            "808/808 [==============================] - 63s 78ms/step - loss: 0.7944 - accuracy: 0.7057 - val_loss: 1.0959 - val_accuracy: 0.6035 - lr: 9.0000e-05\n",
            "Epoch 14/50\n",
            "808/808 [==============================] - 67s 83ms/step - loss: 0.7651 - accuracy: 0.7160 - val_loss: 1.0584 - val_accuracy: 0.6187 - lr: 9.0000e-05\n",
            "Epoch 15/50\n",
            "808/808 [==============================] - 67s 82ms/step - loss: 0.7416 - accuracy: 0.7255 - val_loss: 1.0697 - val_accuracy: 0.6140 - lr: 9.0000e-05\n",
            "Epoch 16/50\n",
            "808/808 [==============================] - 62s 76ms/step - loss: 0.7169 - accuracy: 0.7351 - val_loss: 1.1077 - val_accuracy: 0.6044 - lr: 9.0000e-05\n",
            "Epoch 17/50\n",
            "807/808 [============================>.] - ETA: 0s - loss: 0.7008 - accuracy: 0.7386\n",
            "Epoch 17: ReduceLROnPlateau reducing learning rate to 2.700000040931627e-05.\n",
            "808/808 [==============================] - 63s 78ms/step - loss: 0.7006 - accuracy: 0.7388 - val_loss: 1.0873 - val_accuracy: 0.6145 - lr: 9.0000e-05\n",
            "Epoch 18/50\n",
            "808/808 [==============================] - 61s 76ms/step - loss: 0.6669 - accuracy: 0.7535 - val_loss: 1.1022 - val_accuracy: 0.6168 - lr: 2.7000e-05\n",
            "Epoch 19/50\n",
            "808/808 [==============================] - 66s 81ms/step - loss: 0.6558 - accuracy: 0.7611 - val_loss: 1.0962 - val_accuracy: 0.6236 - lr: 2.7000e-05\n",
            "Epoch 20/50\n",
            "807/808 [============================>.] - ETA: 0s - loss: 0.6443 - accuracy: 0.7610\n",
            "Epoch 20: ReduceLROnPlateau reducing learning rate to 8.100000013655517e-06.\n",
            "808/808 [==============================] - 61s 76ms/step - loss: 0.6442 - accuracy: 0.7612 - val_loss: 1.1204 - val_accuracy: 0.6133 - lr: 2.7000e-05\n",
            "Epoch 21/50\n",
            "808/808 [==============================] - 65s 80ms/step - loss: 0.6299 - accuracy: 0.7673 - val_loss: 1.1071 - val_accuracy: 0.6168 - lr: 8.1000e-06\n",
            "Epoch 22/50\n",
            "808/808 [==============================] - 60s 74ms/step - loss: 0.6308 - accuracy: 0.7685 - val_loss: 1.1128 - val_accuracy: 0.6196 - lr: 8.1000e-06\n",
            "Epoch 23/50\n",
            "807/808 [============================>.] - ETA: 0s - loss: 0.6238 - accuracy: 0.7708\n",
            "Epoch 23: ReduceLROnPlateau reducing learning rate to 2.429999949526973e-06.\n",
            "808/808 [==============================] - 64s 79ms/step - loss: 0.6237 - accuracy: 0.7709 - val_loss: 1.1230 - val_accuracy: 0.6167 - lr: 8.1000e-06\n",
            "Epoch 24/50\n",
            "808/808 [==============================] - 60s 74ms/step - loss: 0.6223 - accuracy: 0.7722 - val_loss: 1.1087 - val_accuracy: 0.6208 - lr: 2.4300e-06\n",
            "Epoch 25/50\n",
            "808/808 [==============================] - 64s 79ms/step - loss: 0.6153 - accuracy: 0.7731 - val_loss: 1.1192 - val_accuracy: 0.6139 - lr: 2.4300e-06\n",
            "Epoch 26/50\n",
            "807/808 [============================>.] - ETA: 0s - loss: 0.6201 - accuracy: 0.7734\n",
            "Epoch 26: ReduceLROnPlateau reducing learning rate to 1e-06.\n",
            "808/808 [==============================] - 64s 79ms/step - loss: 0.6199 - accuracy: 0.7734 - val_loss: 1.1185 - val_accuracy: 0.6185 - lr: 2.4300e-06\n",
            "Epoch 27/50\n",
            "808/808 [==============================] - 62s 76ms/step - loss: 0.6115 - accuracy: 0.7746 - val_loss: 1.1225 - val_accuracy: 0.6218 - lr: 1.0000e-06\n",
            "Epoch 28/50\n",
            "808/808 [==============================] - 60s 74ms/step - loss: 0.6126 - accuracy: 0.7729 - val_loss: 1.1061 - val_accuracy: 0.6222 - lr: 1.0000e-06\n",
            "Epoch 29/50\n",
            "808/808 [==============================] - 60s 74ms/step - loss: 0.6171 - accuracy: 0.7722 - val_loss: 1.1142 - val_accuracy: 0.6154 - lr: 1.0000e-06\n",
            "Epoch 30/50\n",
            "808/808 [==============================] - 65s 80ms/step - loss: 0.6111 - accuracy: 0.7747 - val_loss: 1.1345 - val_accuracy: 0.6163 - lr: 1.0000e-06\n",
            "Epoch 31/50\n",
            "808/808 [==============================] - 62s 76ms/step - loss: 0.6167 - accuracy: 0.7741 - val_loss: 1.1180 - val_accuracy: 0.6154 - lr: 1.0000e-06\n",
            "Epoch 32/50\n",
            "808/808 [==============================] - 61s 75ms/step - loss: 0.6160 - accuracy: 0.7716 - val_loss: 1.1088 - val_accuracy: 0.6190 - lr: 1.0000e-06\n",
            "Epoch 33/50\n",
            "808/808 [==============================] - 62s 77ms/step - loss: 0.6186 - accuracy: 0.7726 - val_loss: 1.1069 - val_accuracy: 0.6182 - lr: 1.0000e-06\n",
            "Epoch 34/50\n",
            "808/808 [==============================] - 60s 74ms/step - loss: 0.6184 - accuracy: 0.7710 - val_loss: 1.1135 - val_accuracy: 0.6160 - lr: 1.0000e-06\n",
            "Epoch 35/50\n",
            "808/808 [==============================] - 60s 75ms/step - loss: 0.6118 - accuracy: 0.7752 - val_loss: 1.1020 - val_accuracy: 0.6222 - lr: 1.0000e-06\n",
            "Epoch 36/50\n",
            "808/808 [==============================] - 60s 74ms/step - loss: 0.6142 - accuracy: 0.7736 - val_loss: 1.1157 - val_accuracy: 0.6230 - lr: 1.0000e-06\n",
            "Epoch 37/50\n",
            "808/808 [==============================] - 62s 76ms/step - loss: 0.6162 - accuracy: 0.7738 - val_loss: 1.1162 - val_accuracy: 0.6163 - lr: 1.0000e-06\n",
            "Epoch 38/50\n",
            "808/808 [==============================] - 62s 76ms/step - loss: 0.6107 - accuracy: 0.7751 - val_loss: 1.1079 - val_accuracy: 0.6233 - lr: 1.0000e-06\n",
            "Epoch 39/50\n",
            "808/808 [==============================] - 60s 74ms/step - loss: 0.6100 - accuracy: 0.7747 - val_loss: 1.1122 - val_accuracy: 0.6208 - lr: 1.0000e-06\n",
            "Epoch 40/50\n",
            "808/808 [==============================] - 60s 74ms/step - loss: 0.6084 - accuracy: 0.7746 - val_loss: 1.1086 - val_accuracy: 0.6205 - lr: 1.0000e-06\n",
            "Epoch 41/50\n",
            "808/808 [==============================] - 62s 76ms/step - loss: 0.6061 - accuracy: 0.7768 - val_loss: 1.1212 - val_accuracy: 0.6173 - lr: 1.0000e-06\n",
            "Epoch 42/50\n",
            "808/808 [==============================] - 62s 76ms/step - loss: 0.6094 - accuracy: 0.7738 - val_loss: 1.1257 - val_accuracy: 0.6222 - lr: 1.0000e-06\n",
            "Epoch 43/50\n",
            "808/808 [==============================] - 62s 76ms/step - loss: 0.6141 - accuracy: 0.7738 - val_loss: 1.1367 - val_accuracy: 0.6194 - lr: 1.0000e-06\n",
            "Epoch 44/50\n",
            "808/808 [==============================] - 62s 76ms/step - loss: 0.6071 - accuracy: 0.7794 - val_loss: 1.1195 - val_accuracy: 0.6221 - lr: 1.0000e-06\n",
            "Epoch 45/50\n",
            "808/808 [==============================] - 62s 76ms/step - loss: 0.6103 - accuracy: 0.7760 - val_loss: 1.1185 - val_accuracy: 0.6177 - lr: 1.0000e-06\n",
            "Epoch 46/50\n",
            "808/808 [==============================] - 61s 75ms/step - loss: 0.6062 - accuracy: 0.7777 - val_loss: 1.1166 - val_accuracy: 0.6218 - lr: 1.0000e-06\n",
            "Epoch 47/50\n",
            "808/808 [==============================] - 65s 80ms/step - loss: 0.6051 - accuracy: 0.7782 - val_loss: 1.1169 - val_accuracy: 0.6198 - lr: 1.0000e-06\n",
            "Epoch 48/50\n",
            "808/808 [==============================] - 60s 75ms/step - loss: 0.6055 - accuracy: 0.7773 - val_loss: 1.1287 - val_accuracy: 0.6176 - lr: 1.0000e-06\n",
            "Epoch 49/50\n",
            "808/808 [==============================] - 65s 81ms/step - loss: 0.6050 - accuracy: 0.7762 - val_loss: 1.1123 - val_accuracy: 0.6205 - lr: 1.0000e-06\n",
            "Epoch 50/50\n",
            "808/808 [==============================] - 62s 77ms/step - loss: 0.6036 - accuracy: 0.7765 - val_loss: 1.1116 - val_accuracy: 0.6185 - lr: 1.0000e-06\n",
            "{'loss': [1.5247830152511597, 1.3131099939346313, 1.244405746459961, 1.203833818435669, 1.166089653968811, 1.1384633779525757, 1.1084730625152588, 0.9899100065231323, 0.9476509690284729, 0.916054904460907, 0.8959897756576538, 0.8606588840484619, 0.7943846583366394, 0.76505047082901, 0.7416197657585144, 0.7168604731559753, 0.7005639672279358, 0.666939914226532, 0.6558243632316589, 0.6441930532455444, 0.6298720240592957, 0.6308413743972778, 0.6237275004386902, 0.6222928166389465, 0.6153318285942078, 0.6199498176574707, 0.6114600300788879, 0.6125741004943848, 0.6171167492866516, 0.6111008524894714, 0.6167081594467163, 0.6159550547599792, 0.6186031103134155, 0.6183626651763916, 0.6118237972259521, 0.614234209060669, 0.6162376999855042, 0.6107370257377625, 0.6100463271141052, 0.6083704233169556, 0.6061125993728638, 0.6093807220458984, 0.6141360402107239, 0.6071447134017944, 0.6103157997131348, 0.6062102913856506, 0.6051401495933533, 0.6054896712303162, 0.6050392389297485, 0.6036476492881775], 'accuracy': [0.4221912622451782, 0.5060567259788513, 0.5328766703605652, 0.5478540062904358, 0.5637602210044861, 0.5699911117553711, 0.5831108093261719, 0.6309067606925964, 0.6465033292770386, 0.6601261496543884, 0.664808988571167, 0.6770386099815369, 0.7056774497032166, 0.7160493731498718, 0.7254924774169922, 0.7350903749465942, 0.7388056516647339, 0.7535121440887451, 0.7610588669776917, 0.7611749768257141, 0.7672510743141174, 0.7684507966041565, 0.7709276676177979, 0.7722434997558594, 0.7730949521064758, 0.7734432220458984, 0.7746430039405823, 0.7729014158248901, 0.7721661329269409, 0.7747203707695007, 0.7741011381149292, 0.7716242671012878, 0.7725531458854675, 0.7710437774658203, 0.7751848101615906, 0.7735980749130249, 0.773830235004425, 0.7751073837280273, 0.7747203707695007, 0.7746430039405823, 0.7767715454101562, 0.7737915515899658, 0.773830235004425, 0.7793645262718201, 0.7760362029075623, 0.7777003645896912, 0.7782421708106995, 0.7773133516311646, 0.776229739189148, 0.7764619588851929], 'val_loss': [1.6407362222671509, 1.3463175296783447, 1.3534501791000366, 1.305200219154358, 1.557053565979004, 1.3501389026641846, 1.4165565967559814, 1.100698471069336, 1.091658353805542, 1.1021851301193237, 1.2030949592590332, 1.1123104095458984, 1.0958656072616577, 1.0584241151809692, 1.0697206258773804, 1.107743501663208, 1.0872695446014404, 1.1021779775619507, 1.0962423086166382, 1.1204460859298706, 1.1070857048034668, 1.1127984523773193, 1.1230369806289673, 1.1086548566818237, 1.1192208528518677, 1.1185296773910522, 1.1224727630615234, 1.1060534715652466, 1.1142021417617798, 1.1345305442810059, 1.1179684400558472, 1.108839511871338, 1.1068915128707886, 1.1134862899780273, 1.1020402908325195, 1.1157140731811523, 1.1161620616912842, 1.1078875064849854, 1.1121753454208374, 1.1086493730545044, 1.1212241649627686, 1.1256622076034546, 1.13673996925354, 1.1195250749588013, 1.118480920791626, 1.1165999174118042, 1.1168774366378784, 1.1286685466766357, 1.1122840642929077, 1.1116063594818115], 'val_accuracy': [0.3429323434829712, 0.4777829349040985, 0.5030190348625183, 0.5093667507171631, 0.4266914427280426, 0.4845951497554779, 0.48087939620018005, 0.5850750803947449, 0.5932806730270386, 0.596067488193512, 0.5638643503189087, 0.5833720564842224, 0.6034989953041077, 0.6186715960502625, 0.6140269637107849, 0.6044279336929321, 0.6144914031028748, 0.6168137192726135, 0.6236259341239929, 0.6132528185844421, 0.6168137192726135, 0.6196005344390869, 0.6166589260101318, 0.6208391189575195, 0.6138721108436584, 0.6185168027877808, 0.621768057346344, 0.6222325563430786, 0.6154203414916992, 0.6163492798805237, 0.6154203414916992, 0.6189812421798706, 0.6182071566581726, 0.6160396337509155, 0.6222325563430786, 0.6230066418647766, 0.6163492798805237, 0.6233162879943848, 0.6208391189575195, 0.6205294728279114, 0.6172782182693481, 0.6222325563430786, 0.6194457411766052, 0.6220777034759521, 0.617742657661438, 0.621768057346344, 0.6197553873062134, 0.6175878643989563, 0.6205294728279114, 0.6185168027877808], 'lr': [0.001, 0.001, 0.001, 0.001, 0.001, 0.001, 0.001, 0.0003, 0.0003, 0.0003, 0.0003, 0.0003, 9e-05, 9e-05, 9e-05, 9e-05, 9e-05, 2.7e-05, 2.7e-05, 2.7e-05, 8.1e-06, 8.1e-06, 8.1e-06, 2.43e-06, 2.43e-06, 2.43e-06, 1e-06, 1e-06, 1e-06, 1e-06, 1e-06, 1e-06, 1e-06, 1e-06, 1e-06, 1e-06, 1e-06, 1e-06, 1e-06, 1e-06, 1e-06, 1e-06, 1e-06, 1e-06, 1e-06, 1e-06, 1e-06, 1e-06, 1e-06, 1e-06]}\n"
          ]
        }
      ],
      "source": [
        "history = model.fit(train_data,\n",
        "                   epochs = 50,\n",
        "                   batch_size = 32,\n",
        "                   validation_data = (val_data),\n",
        "                   callbacks = callbacks)\n",
        "\n",
        "print(history.history)"
      ],
      "id": "Bn1auw2Aa70I"
    },
    {
      "cell_type": "code",
      "execution_count": null,
      "metadata": {
        "id": "0bLaLn4Oa70J",
        "outputId": "be33cdf5-720d-4c62-a2f5-0de8a5fdb382",
        "colab": {
          "base_uri": "https://localhost:8080/",
          "height": 887
        }
      },
      "outputs": [
        {
          "output_type": "display_data",
          "data": {
            "text/plain": [
              "<Figure size 640x480 with 1 Axes>"
            ],
            "image/png": "[encoded data removed]"
          },
          "metadata": {}
        },
        {
          "output_type": "display_data",
          "data": {
            "text/plain": [
              "<Figure size 640x480 with 1 Axes>"
            ],
            "image/png": "[encoded data removed]"
          },
          "metadata": {}
        }
      ],
      "source": [
        "acc = history.history[\"accuracy\"]\n",
        "val_acc = history.history[\"val_accuracy\"]\n",
        "loss = history.history[\"loss\"]\n",
        "val_loss = history.history[\"val_loss\"]\n",
        "epochs = range(1, len(acc) + 1)\n",
        "plt.plot(epochs, acc, \"bo\", label = \"Training Accuracy\")\n",
        "plt.plot(epochs, val_acc, \"b\", label = \"Validation Accuracy\")\n",
        "plt.title(\"Training and Validation Accuracy\")\n",
        "plt.legend()\n",
        "plt.figure()\n",
        "plt.plot(epochs, loss, \"bo\", label = \"Training Loss\")\n",
        "plt.plot(epochs, val_loss, \"b\", label = \"Validation Loss\")\n",
        "plt.title(\"Training and Validation Loss\")\n",
        "plt.legend()\n",
        "plt.show()"
      ],
      "id": "0bLaLn4Oa70J"
    },
    {
      "cell_type": "code",
      "execution_count": null,
      "metadata": {
        "id": "xL-WOSu0a70J",
        "outputId": "7e02fb91-d364-40d2-9e14-f74be08d4048",
        "scrolled": true,
        "colab": {
          "base_uri": "https://localhost:8080/"
        }
      },
      "outputs": [
        {
          "output_type": "stream",
          "name": "stdout",
          "text": [
            "113/113 [==============================] - 10s 18ms/step - loss: 0.9998 - accuracy: 0.6378\n"
          ]
        }
      ],
      "source": [
        "test_model = k.models.load_model(\"/content/drive/MyDrive/model/FER2013_best_model.keras\")\n",
        "test_loss, test_acc = test_model.evaluate(test_data)"
      ],
      "id": "xL-WOSu0a70J"
    },
    {
      "cell_type": "code",
      "execution_count": null,
      "metadata": {
        "id": "uAOmvrEca70J",
        "colab": {
          "base_uri": "https://localhost:8080/"
        },
        "outputId": "074b6313-7865-4d01-c76d-734ff1f28f94"
      },
      "outputs": [
        {
          "output_type": "stream",
          "name": "stdout",
          "text": [
            "113/113 [==============================] - 2s 14ms/step\n"
          ]
        }
      ],
      "source": [
        "test_pred = test_model.predict(test_data)"
      ],
      "id": "uAOmvrEca70J"
    },
    {
      "cell_type": "code",
      "execution_count": null,
      "metadata": {
        "id": "yHpML3J5a70J",
        "outputId": "f7aef4ee-a471-45ef-9620-ce54f48484c2",
        "colab": {
          "base_uri": "https://localhost:8080/"
        }
      },
      "outputs": [
        {
          "output_type": "stream",
          "name": "stdout",
          "text": [
            "Shape of all Predictions: (3589, 7)\n",
            "Sample prediction of first element: [6.1697793e-01 4.2608655e-03 8.6818151e-02 2.0176591e-04 2.2090763e-01\n",
            " 4.7037574e-03 6.6129848e-02]\n",
            "Shape after picking prediction label: (3589,)\n",
            "Sample prediction of first element after picking label: 0\n",
            "Shape of all true label list: (3589,)\n",
            "Sample prediction of first element in true label: 0\n"
          ]
        }
      ],
      "source": [
        "print(\"Shape of all Predictions: \" + str(test_pred.shape))\n",
        "print(\"Sample prediction of first element: \" + str(test_pred[0]))\n",
        "test_pred = np.argmax(test_pred, axis = -1)\n",
        "print(\"Shape after picking prediction label: \" + str(test_pred.shape))\n",
        "print(\"Sample prediction of first element after picking label: \" + str(test_pred[0]))\n",
        "test_true = np.argmax(test_img_labels, axis = -1)\n",
        "print(\"Shape of all true label list: \" + str(test_true.shape))\n",
        "print(\"Sample prediction of first element in true label: \" + str(test_true[0]))"
      ],
      "id": "yHpML3J5a70J"
    },
    {
      "cell_type": "code",
      "execution_count": null,
      "metadata": {
        "id": "mU_31HMxa70K",
        "outputId": "7597e2cd-4fe3-4e0b-d267-0013938c3904",
        "colab": {
          "base_uri": "https://localhost:8080/"
        }
      },
      "outputs": [
        {
          "output_type": "stream",
          "name": "stdout",
          "text": [
            "Micro F1 Score: 0.6377821120089161\n",
            "Weighted F1 Score: 0.6358706349451246\n",
            "Recall Score: 0.5856108794707564\n",
            "Precision Score: 0.609717949459899\n"
          ]
        }
      ],
      "source": [
        "#Evaluation\n",
        "from sklearn.metrics import recall_score, precision_score\n",
        "\n",
        "print(\"Micro F1 Score: \" + str(f1_score(test_true, test_pred , average=\"micro\")))\n",
        "print(\"Weighted F1 Score: \" + str(f1_score(test_true, test_pred , average=\"weighted\")))\n",
        "print(\"Recall Score: \" + str(recall_score(test_true, test_pred, average='macro')))\n",
        "print(\"Precision Score: \" + str(precision_score(test_true, test_pred, average='macro')))\n"
      ],
      "id": "mU_31HMxa70K"
    },
    {
      "cell_type": "code",
      "execution_count": null,
      "metadata": {
        "id": "1ovLSXpTa70K"
      },
      "outputs": [],
      "source": [
        "###### ----------- ----- MODEL X - CNN ----------- ----- ######"
      ],
      "id": "1ovLSXpTa70K"
    },
    {
      "cell_type": "code",
      "source": [
        "#Building CNN Architecture\n",
        "\n",
        "inputsX = k.Input((48,48,3))\n",
        "x = tf.keras.layers.Conv2D(filters = 64, kernel_size = 3, padding='same', activation = 'relu')(inputsX)\n",
        "x = tf.keras.layers.BatchNormalization(axis=-1)(x)\n",
        "x = tf.keras.layers.Conv2D(filters = 64, kernel_size = 3, padding='same', activation = 'relu')(x)\n",
        "x = tf.keras.layers.BatchNormalization(axis=-1)(x)\n",
        "x = tf.keras.layers.MaxPooling2D(pool_size = 2)(x)\n",
        "x = tf.keras.layers.Dropout(0.7)(x)\n",
        "x = tf.keras.layers.Conv2D(filters = 128, kernel_size = 3, padding='same', activation = 'relu')(x)\n",
        "x = tf.keras.layers.BatchNormalization(axis=-1)(x)\n",
        "x = tf.keras.layers.Conv2D(filters = 128, kernel_size = 3, padding='same', activation = 'relu')(x)\n",
        "x = tf.keras.layers.BatchNormalization(axis=-1)(x)\n",
        "x = tf.keras.layers.MaxPooling2D(pool_size = 2)(x)\n",
        "x = tf.keras.layers.Dropout(0.5)(x)\n",
        "x = tf.keras.layers.Conv2D(filters = 256, kernel_size = 3, padding='same', activation = 'relu')(x)\n",
        "x = tf.keras.layers.BatchNormalization(axis=-1)(x)\n",
        "x = tf.keras.layers.Conv2D(filters = 256, kernel_size = 3, padding='same', activation = 'relu')(x)\n",
        "x = tf.keras.layers.BatchNormalization(axis=-1)(x)\n",
        "x = tf.keras.layers.MaxPooling2D(pool_size = 2)(x)\n",
        "x = tf.keras.layers.Dropout(0.5)(x)\n",
        "x = tf.keras.layers.Conv2D(filters = 512, kernel_size = 3, padding='same', activation = 'relu')(x)\n",
        "x = tf.keras.layers.BatchNormalization(axis=-1)(x)\n",
        "x = tf.keras.layers.Dropout(0.5)(x)\n",
        "x = tf.keras.layers.Flatten()(x)\n",
        "x = tf.keras.layers.Dense(128, activation = 'relu')(x)\n",
        "x = tf.keras.layers.BatchNormalization(axis=-1)(x)\n",
        "outputsX = tf.keras.layers.Dense(7, activation = 'softmax')(x)\n",
        "modelX = k.Model(inputs = inputsX, outputs = outputsX)\n",
        "\n",
        "modelX.summary()"
      ],
      "metadata": {
        "colab": {
          "base_uri": "https://localhost:8080/"
        },
        "id": "vSDN_wiLNmLq",
        "outputId": "e9c7439d-bc77-4b7b-83dc-fed5f3371eb2"
      },
      "id": "vSDN_wiLNmLq",
      "execution_count": null,
      "outputs": [
        {
          "output_type": "stream",
          "name": "stdout",
          "text": [
            "Model: \"model\"\n",
            "_________________________________________________________________\n",
            " Layer (type)                Output Shape              Param #   \n",
            "=================================================================\n",
            " input_1 (InputLayer)        [(None, 48, 48, 3)]       0         \n",
            "                                                                 \n",
            " conv2d (Conv2D)             (None, 48, 48, 64)        1792      \n",
            "                                                                 \n",
            " batch_normalization (BatchN  (None, 48, 48, 64)       256       \n",
            " ormalization)                                                   \n",
            "                                                                 \n",
            " conv2d_1 (Conv2D)           (None, 48, 48, 64)        36928     \n",
            "                                                                 \n",
            " batch_normalization_1 (Batc  (None, 48, 48, 64)       256       \n",
            " hNormalization)                                                 \n",
            "                                                                 \n",
            " max_pooling2d (MaxPooling2D  (None, 24, 24, 64)       0         \n",
            " )                                                               \n",
            "                                                                 \n",
            " dropout (Dropout)           (None, 24, 24, 64)        0         \n",
            "                                                                 \n",
            " conv2d_2 (Conv2D)           (None, 24, 24, 128)       73856     \n",
            "                                                                 \n",
            " batch_normalization_2 (Batc  (None, 24, 24, 128)      512       \n",
            " hNormalization)                                                 \n",
            "                                                                 \n",
            " conv2d_3 (Conv2D)           (None, 24, 24, 128)       147584    \n",
            "                                                                 \n",
            " batch_normalization_3 (Batc  (None, 24, 24, 128)      512       \n",
            " hNormalization)                                                 \n",
            "                                                                 \n",
            " max_pooling2d_1 (MaxPooling  (None, 12, 12, 128)      0         \n",
            " 2D)                                                             \n",
            "                                                                 \n",
            " dropout_1 (Dropout)         (None, 12, 12, 128)       0         \n",
            "                                                                 \n",
            " conv2d_4 (Conv2D)           (None, 12, 12, 256)       295168    \n",
            "                                                                 \n",
            " batch_normalization_4 (Batc  (None, 12, 12, 256)      1024      \n",
            " hNormalization)                                                 \n",
            "                                                                 \n",
            " conv2d_5 (Conv2D)           (None, 12, 12, 256)       590080    \n",
            "                                                                 \n",
            " batch_normalization_5 (Batc  (None, 12, 12, 256)      1024      \n",
            " hNormalization)                                                 \n",
            "                                                                 \n",
            " max_pooling2d_2 (MaxPooling  (None, 6, 6, 256)        0         \n",
            " 2D)                                                             \n",
            "                                                                 \n",
            " dropout_2 (Dropout)         (None, 6, 6, 256)         0         \n",
            "                                                                 \n",
            " conv2d_6 (Conv2D)           (None, 6, 6, 512)         1180160   \n",
            "                                                                 \n",
            " batch_normalization_6 (Batc  (None, 6, 6, 512)        2048      \n",
            " hNormalization)                                                 \n",
            "                                                                 \n",
            " dropout_3 (Dropout)         (None, 6, 6, 512)         0         \n",
            "                                                                 \n",
            " flatten (Flatten)           (None, 18432)             0         \n",
            "                                                                 \n",
            " dense (Dense)               (None, 128)               2359424   \n",
            "                                                                 \n",
            " batch_normalization_7 (Batc  (None, 128)              512       \n",
            " hNormalization)                                                 \n",
            "                                                                 \n",
            " dense_1 (Dense)             (None, 7)                 903       \n",
            "                                                                 \n",
            "=================================================================\n",
            "Total params: 4,692,039\n",
            "Trainable params: 4,688,967\n",
            "Non-trainable params: 3,072\n",
            "_________________________________________________________________\n"
          ]
        }
      ]
    },
    {
      "cell_type": "code",
      "source": [
        "modelX.compile(loss = \"categorical_crossentropy\",\n",
        "             optimizer = k.optimizers.Adam(learning_rate=0.001, beta_1=0.9, beta_2=0.999),\n",
        "             metrics = [\"accuracy\"])\n",
        "\n",
        "callbacks = [k.callbacks.ModelCheckpoint(filepath=\"/content/drive/MyDrive/model/FER2013_best_modelX.keras\",\n",
        "                                         save_best_only=True,\n",
        "                                         monitor='val_loss',\n",
        "                                         mode='min'),\n",
        "             k.callbacks.ReduceLROnPlateau(monitor = 'val_loss',\n",
        "                                           factor=0.3,\n",
        "                                           patience=3,\n",
        "                                           min_lr=0.000001,\n",
        "                                           verbose=1,\n",
        "                                           mode='auto')\n",
        "]"
      ],
      "metadata": {
        "id": "3Bu9Sai-NEI7"
      },
      "id": "3Bu9Sai-NEI7",
      "execution_count": null,
      "outputs": []
    },
    {
      "cell_type": "code",
      "source": [
        "historyX = modelX.fit(train_data,\n",
        "                   epochs = 50,\n",
        "                   batch_size = 32,\n",
        "                   validation_data = (val_data),\n",
        "                   callbacks = callbacks)\n",
        "\n",
        "print(historyX.history)"
      ],
      "metadata": {
        "colab": {
          "base_uri": "https://localhost:8080/"
        },
        "id": "rmL2nb6WNv--",
        "outputId": "82702241-4988-4ad8-8504-1617fd1ba854"
      },
      "id": "rmL2nb6WNv--",
      "execution_count": null,
      "outputs": [
        {
          "output_type": "stream",
          "name": "stdout",
          "text": [
            "Epoch 1/50\n",
            "808/808 [==============================] - 53s 55ms/step - loss: 1.7813 - accuracy: 0.3001 - val_loss: 1.8309 - val_accuracy: 0.2691 - lr: 0.0010\n",
            "Epoch 2/50\n",
            "808/808 [==============================] - 52s 64ms/step - loss: 1.5482 - accuracy: 0.3985 - val_loss: 1.4805 - val_accuracy: 0.4397 - lr: 0.0010\n",
            "Epoch 3/50\n",
            "808/808 [==============================] - 39s 49ms/step - loss: 1.4078 - accuracy: 0.4593 - val_loss: 1.3658 - val_accuracy: 0.4826 - lr: 0.0010\n",
            "Epoch 4/50\n",
            "808/808 [==============================] - 42s 51ms/step - loss: 1.3210 - accuracy: 0.4955 - val_loss: 1.3027 - val_accuracy: 0.5004 - lr: 0.0010\n",
            "Epoch 5/50\n",
            "808/808 [==============================] - 49s 61ms/step - loss: 1.2672 - accuracy: 0.5188 - val_loss: 1.2737 - val_accuracy: 0.5115 - lr: 0.0010\n",
            "Epoch 6/50\n",
            "808/808 [==============================] - 50s 62ms/step - loss: 1.2245 - accuracy: 0.5361 - val_loss: 1.1533 - val_accuracy: 0.5535 - lr: 0.0010\n",
            "Epoch 7/50\n",
            "808/808 [==============================] - 55s 67ms/step - loss: 1.1903 - accuracy: 0.5494 - val_loss: 1.2782 - val_accuracy: 0.5077 - lr: 0.0010\n",
            "Epoch 8/50\n",
            "808/808 [==============================] - 47s 58ms/step - loss: 1.1589 - accuracy: 0.5626 - val_loss: 1.1407 - val_accuracy: 0.5670 - lr: 0.0010\n",
            "Epoch 9/50\n",
            "808/808 [==============================] - 41s 51ms/step - loss: 1.1296 - accuracy: 0.5737 - val_loss: 1.2079 - val_accuracy: 0.5505 - lr: 0.0010\n",
            "Epoch 10/50\n",
            "808/808 [==============================] - 40s 49ms/step - loss: 1.1108 - accuracy: 0.5821 - val_loss: 1.1027 - val_accuracy: 0.5834 - lr: 0.0010\n",
            "Epoch 11/50\n",
            "808/808 [==============================] - 43s 53ms/step - loss: 1.0918 - accuracy: 0.5890 - val_loss: 1.0944 - val_accuracy: 0.5828 - lr: 0.0010\n",
            "Epoch 12/50\n",
            "808/808 [==============================] - 40s 50ms/step - loss: 1.0668 - accuracy: 0.6005 - val_loss: 1.1137 - val_accuracy: 0.5767 - lr: 0.0010\n",
            "Epoch 13/50\n",
            "808/808 [==============================] - 41s 51ms/step - loss: 1.0521 - accuracy: 0.6059 - val_loss: 1.0770 - val_accuracy: 0.5849 - lr: 0.0010\n",
            "Epoch 14/50\n",
            "808/808 [==============================] - 40s 50ms/step - loss: 1.0370 - accuracy: 0.6089 - val_loss: 1.2182 - val_accuracy: 0.5450 - lr: 0.0010\n",
            "Epoch 15/50\n",
            "808/808 [==============================] - 40s 50ms/step - loss: 1.0296 - accuracy: 0.6116 - val_loss: 1.1596 - val_accuracy: 0.5687 - lr: 0.0010\n",
            "Epoch 16/50\n",
            "808/808 [==============================] - 42s 51ms/step - loss: 1.0162 - accuracy: 0.6197 - val_loss: 1.0524 - val_accuracy: 0.5996 - lr: 0.0010\n",
            "Epoch 17/50\n",
            "808/808 [==============================] - 41s 51ms/step - loss: 0.9996 - accuracy: 0.6234 - val_loss: 1.0210 - val_accuracy: 0.6174 - lr: 0.0010\n",
            "Epoch 18/50\n",
            "808/808 [==============================] - 40s 50ms/step - loss: 0.9895 - accuracy: 0.6263 - val_loss: 1.0309 - val_accuracy: 0.6032 - lr: 0.0010\n",
            "Epoch 19/50\n",
            "808/808 [==============================] - 44s 54ms/step - loss: 0.9755 - accuracy: 0.6345 - val_loss: 1.0307 - val_accuracy: 0.6162 - lr: 0.0010\n",
            "Epoch 20/50\n",
            "807/808 [============================>.] - ETA: 0s - loss: 0.9640 - accuracy: 0.6379\n",
            "Epoch 20: ReduceLROnPlateau reducing learning rate to 0.0003000000142492354.\n",
            "808/808 [==============================] - 40s 49ms/step - loss: 0.9642 - accuracy: 0.6378 - val_loss: 1.1188 - val_accuracy: 0.5738 - lr: 0.0010\n",
            "Epoch 21/50\n",
            "808/808 [==============================] - 45s 55ms/step - loss: 0.9204 - accuracy: 0.6576 - val_loss: 0.9812 - val_accuracy: 0.6311 - lr: 3.0000e-04\n",
            "Epoch 22/50\n",
            "808/808 [==============================] - 41s 51ms/step - loss: 0.9114 - accuracy: 0.6571 - val_loss: 0.9790 - val_accuracy: 0.6332 - lr: 3.0000e-04\n",
            "Epoch 23/50\n",
            "808/808 [==============================] - 41s 51ms/step - loss: 0.8886 - accuracy: 0.6700 - val_loss: 0.9695 - val_accuracy: 0.6396 - lr: 3.0000e-04\n",
            "Epoch 24/50\n",
            "808/808 [==============================] - 40s 50ms/step - loss: 0.8780 - accuracy: 0.6719 - val_loss: 0.9715 - val_accuracy: 0.6414 - lr: 3.0000e-04\n",
            "Epoch 25/50\n",
            "808/808 [==============================] - 40s 49ms/step - loss: 0.8728 - accuracy: 0.6729 - val_loss: 0.9698 - val_accuracy: 0.6369 - lr: 3.0000e-04\n",
            "Epoch 26/50\n",
            "808/808 [==============================] - 44s 55ms/step - loss: 0.8640 - accuracy: 0.6772 - val_loss: 0.9682 - val_accuracy: 0.6467 - lr: 3.0000e-04\n",
            "Epoch 27/50\n",
            "808/808 [==============================] - 41s 50ms/step - loss: 0.8522 - accuracy: 0.6800 - val_loss: 0.9615 - val_accuracy: 0.6408 - lr: 3.0000e-04\n",
            "Epoch 28/50\n",
            "808/808 [==============================] - 40s 49ms/step - loss: 0.8517 - accuracy: 0.6795 - val_loss: 0.9758 - val_accuracy: 0.6436 - lr: 3.0000e-04\n",
            "Epoch 29/50\n",
            "808/808 [==============================] - 39s 48ms/step - loss: 0.8417 - accuracy: 0.6828 - val_loss: 0.9737 - val_accuracy: 0.6408 - lr: 3.0000e-04\n",
            "Epoch 30/50\n",
            "808/808 [==============================] - ETA: 0s - loss: 0.8464 - accuracy: 0.6824\n",
            "Epoch 30: ReduceLROnPlateau reducing learning rate to 9.000000427477062e-05.\n",
            "808/808 [==============================] - 43s 54ms/step - loss: 0.8464 - accuracy: 0.6824 - val_loss: 0.9667 - val_accuracy: 0.6422 - lr: 3.0000e-04\n",
            "Epoch 31/50\n",
            "808/808 [==============================] - 40s 50ms/step - loss: 0.8241 - accuracy: 0.6931 - val_loss: 0.9488 - val_accuracy: 0.6493 - lr: 9.0000e-05\n",
            "Epoch 32/50\n",
            "808/808 [==============================] - 43s 54ms/step - loss: 0.8204 - accuracy: 0.6924 - val_loss: 0.9617 - val_accuracy: 0.6455 - lr: 9.0000e-05\n",
            "Epoch 33/50\n",
            "808/808 [==============================] - 39s 49ms/step - loss: 0.8132 - accuracy: 0.6960 - val_loss: 0.9536 - val_accuracy: 0.6470 - lr: 9.0000e-05\n",
            "Epoch 34/50\n",
            "808/808 [==============================] - ETA: 0s - loss: 0.8057 - accuracy: 0.6972\n",
            "Epoch 34: ReduceLROnPlateau reducing learning rate to 2.700000040931627e-05.\n",
            "808/808 [==============================] - 38s 47ms/step - loss: 0.8057 - accuracy: 0.6972 - val_loss: 0.9560 - val_accuracy: 0.6461 - lr: 9.0000e-05\n",
            "Epoch 35/50\n",
            "808/808 [==============================] - 40s 50ms/step - loss: 0.7998 - accuracy: 0.6974 - val_loss: 0.9440 - val_accuracy: 0.6527 - lr: 2.7000e-05\n",
            "Epoch 36/50\n",
            "808/808 [==============================] - 40s 49ms/step - loss: 0.8029 - accuracy: 0.7005 - val_loss: 0.9568 - val_accuracy: 0.6459 - lr: 2.7000e-05\n",
            "Epoch 37/50\n",
            "808/808 [==============================] - 39s 49ms/step - loss: 0.8025 - accuracy: 0.6981 - val_loss: 0.9493 - val_accuracy: 0.6499 - lr: 2.7000e-05\n",
            "Epoch 38/50\n",
            "808/808 [==============================] - ETA: 0s - loss: 0.8035 - accuracy: 0.6998\n",
            "Epoch 38: ReduceLROnPlateau reducing learning rate to 8.100000013655517e-06.\n",
            "808/808 [==============================] - 43s 53ms/step - loss: 0.8035 - accuracy: 0.6998 - val_loss: 0.9571 - val_accuracy: 0.6444 - lr: 2.7000e-05\n",
            "Epoch 39/50\n",
            "808/808 [==============================] - 39s 49ms/step - loss: 0.7974 - accuracy: 0.7010 - val_loss: 0.9485 - val_accuracy: 0.6564 - lr: 8.1000e-06\n",
            "Epoch 40/50\n",
            "808/808 [==============================] - 40s 49ms/step - loss: 0.7937 - accuracy: 0.7020 - val_loss: 0.9462 - val_accuracy: 0.6512 - lr: 8.1000e-06\n",
            "Epoch 41/50\n",
            "808/808 [==============================] - ETA: 0s - loss: 0.7960 - accuracy: 0.7030\n",
            "Epoch 41: ReduceLROnPlateau reducing learning rate to 2.429999949526973e-06.\n",
            "808/808 [==============================] - 44s 54ms/step - loss: 0.7960 - accuracy: 0.7030 - val_loss: 0.9541 - val_accuracy: 0.6445 - lr: 8.1000e-06\n",
            "Epoch 42/50\n",
            "808/808 [==============================] - 41s 50ms/step - loss: 0.7931 - accuracy: 0.7050 - val_loss: 0.9508 - val_accuracy: 0.6503 - lr: 2.4300e-06\n",
            "Epoch 43/50\n",
            "808/808 [==============================] - 44s 54ms/step - loss: 0.7971 - accuracy: 0.6992 - val_loss: 0.9529 - val_accuracy: 0.6521 - lr: 2.4300e-06\n",
            "Epoch 44/50\n",
            "807/808 [============================>.] - ETA: 0s - loss: 0.7940 - accuracy: 0.7047\n",
            "Epoch 44: ReduceLROnPlateau reducing learning rate to 1e-06.\n",
            "808/808 [==============================] - 40s 50ms/step - loss: 0.7940 - accuracy: 0.7047 - val_loss: 0.9497 - val_accuracy: 0.6526 - lr: 2.4300e-06\n",
            "Epoch 45/50\n",
            "808/808 [==============================] - 44s 54ms/step - loss: 0.7982 - accuracy: 0.7013 - val_loss: 0.9520 - val_accuracy: 0.6518 - lr: 1.0000e-06\n",
            "Epoch 46/50\n",
            "808/808 [==============================] - 40s 50ms/step - loss: 0.7909 - accuracy: 0.7028 - val_loss: 0.9522 - val_accuracy: 0.6523 - lr: 1.0000e-06\n",
            "Epoch 47/50\n",
            "808/808 [==============================] - 44s 54ms/step - loss: 0.7949 - accuracy: 0.7041 - val_loss: 0.9467 - val_accuracy: 0.6534 - lr: 1.0000e-06\n",
            "Epoch 48/50\n",
            "808/808 [==============================] - 40s 49ms/step - loss: 0.7966 - accuracy: 0.7030 - val_loss: 0.9540 - val_accuracy: 0.6504 - lr: 1.0000e-06\n",
            "Epoch 49/50\n",
            "808/808 [==============================] - 38s 47ms/step - loss: 0.7908 - accuracy: 0.7050 - val_loss: 0.9532 - val_accuracy: 0.6513 - lr: 1.0000e-06\n",
            "Epoch 50/50\n",
            "808/808 [==============================] - 40s 49ms/step - loss: 0.7901 - accuracy: 0.7023 - val_loss: 0.9473 - val_accuracy: 0.6537 - lr: 1.0000e-06\n",
            "{'loss': [1.7813364267349243, 1.548195242881775, 1.40776526927948, 1.3209863901138306, 1.2671548128128052, 1.2245128154754639, 1.1902574300765991, 1.158869981765747, 1.1295640468597412, 1.110761284828186, 1.0917693376541138, 1.0667970180511475, 1.0521411895751953, 1.0369842052459717, 1.0295805931091309, 1.0162371397018433, 0.9996154308319092, 0.9894859194755554, 0.975547730922699, 0.9642488956451416, 0.9203820824623108, 0.91143399477005, 0.8886197209358215, 0.8779900670051575, 0.8727796673774719, 0.863953709602356, 0.8522264957427979, 0.8517406582832336, 0.8417326807975769, 0.8464047908782959, 0.8241480588912964, 0.8203504681587219, 0.8131564855575562, 0.8056524395942688, 0.7997978329658508, 0.8028952479362488, 0.8025238513946533, 0.8034743666648865, 0.7973631620407104, 0.793662428855896, 0.7959721684455872, 0.793146014213562, 0.7971410155296326, 0.7940322160720825, 0.7982079386711121, 0.7908682227134705, 0.7949458956718445, 0.7965819239616394, 0.7908386588096619, 0.7900589108467102], 'accuracy': [0.3000503182411194, 0.39850613474845886, 0.45934438705444336, 0.49553000926971436, 0.5188281536102295, 0.5360501408576965, 0.5494407415390015, 0.5625991821289062, 0.5737063884735107, 0.582143247127533, 0.5889933705329895, 0.6004876494407654, 0.6058670878410339, 0.6089245080947876, 0.6115948557853699, 0.6196834444999695, 0.6233987212181091, 0.6263400316238403, 0.6345059871673584, 0.6377955675125122, 0.6576492786407471, 0.6570687890052795, 0.6699562668800354, 0.6719300150871277, 0.6728975772857666, 0.6772320866584778, 0.6800186038017273, 0.6795154809951782, 0.682805061340332, 0.6824180483818054, 0.6930608749389648, 0.6923642754554749, 0.6960408687591553, 0.6972405910491943, 0.69743412733078, 0.7004528045654297, 0.6980533599853516, 0.6998335719108582, 0.7010332942008972, 0.7019621729850769, 0.7030457854270935, 0.7049808502197266, 0.6991756558418274, 0.7047099471092224, 0.7013042569160461, 0.7028135657310486, 0.7040520310401917, 0.7029683589935303, 0.7049808502197266, 0.7022717595100403], 'val_loss': [1.8309435844421387, 1.4805426597595215, 1.3658490180969238, 1.3027416467666626, 1.2737386226654053, 1.1533008813858032, 1.2782331705093384, 1.140663743019104, 1.2079004049301147, 1.1026893854141235, 1.0943657159805298, 1.1137150526046753, 1.0769751071929932, 1.218224048614502, 1.1596481800079346, 1.0523704290390015, 1.0209908485412598, 1.0309044122695923, 1.0306650400161743, 1.1188302040100098, 0.9811825156211853, 0.9790211319923401, 0.9695014357566833, 0.9714768528938293, 0.9698083400726318, 0.9681859016418457, 0.9614570140838623, 0.9758473038673401, 0.9736925959587097, 0.9666988849639893, 0.9487634301185608, 0.961702287197113, 0.953626811504364, 0.9559943079948425, 0.9439778327941895, 0.9567950367927551, 0.9493388533592224, 0.9570780992507935, 0.948481023311615, 0.9462274312973022, 0.954081654548645, 0.9507803320884705, 0.9529435634613037, 0.9496973752975464, 0.9519684314727783, 0.9521753787994385, 0.9466879367828369, 0.9539594650268555, 0.9532131552696228, 0.9472715258598328], 'val_accuracy': [0.26908189058303833, 0.4396965503692627, 0.4825824499130249, 0.5003870725631714, 0.5115342736244202, 0.5534912347793579, 0.5076637268066406, 0.5669608116149902, 0.5505496263504028, 0.5833720564842224, 0.5827527642250061, 0.5767146348953247, 0.5849202871322632, 0.544975996017456, 0.5686638951301575, 0.5996284484863281, 0.6174330115318298, 0.6031893491744995, 0.616194486618042, 0.5737730264663696, 0.6310574412345886, 0.6332249641418457, 0.6395726799964905, 0.6414305567741394, 0.6369407176971436, 0.646694540977478, 0.6408112645149231, 0.6435980796813965, 0.6408112645149231, 0.6422047019004822, 0.649326503276825, 0.6454559564590454, 0.6470041871070862, 0.6460752487182617, 0.6527326107025146, 0.6459203958511353, 0.6499457955360413, 0.6443721652030945, 0.6564483642578125, 0.6511843800544739, 0.644527018070221, 0.6502554416656494, 0.6521133184432983, 0.652577817440033, 0.6518036723136902, 0.6522681713104248, 0.653351902961731, 0.6504102945327759, 0.6513392329216003, 0.6536615490913391], 'lr': [0.001, 0.001, 0.001, 0.001, 0.001, 0.001, 0.001, 0.001, 0.001, 0.001, 0.001, 0.001, 0.001, 0.001, 0.001, 0.001, 0.001, 0.001, 0.001, 0.001, 0.0003, 0.0003, 0.0003, 0.0003, 0.0003, 0.0003, 0.0003, 0.0003, 0.0003, 0.0003, 9e-05, 9e-05, 9e-05, 9e-05, 2.7e-05, 2.7e-05, 2.7e-05, 2.7e-05, 8.1e-06, 8.1e-06, 8.1e-06, 2.43e-06, 2.43e-06, 2.43e-06, 1e-06, 1e-06, 1e-06, 1e-06, 1e-06, 1e-06]}\n"
          ]
        }
      ]
    },
    {
      "cell_type": "code",
      "source": [
        "acc = historyX.history[\"accuracy\"]\n",
        "val_acc = historyX.history[\"val_accuracy\"]\n",
        "loss = historyX.history[\"loss\"]\n",
        "val_loss = historyX.history[\"val_loss\"]\n",
        "epochs = range(1, len(acc) + 1)\n",
        "plt.plot(epochs, acc, \"bo\", label = \"Training Accuracy\")\n",
        "plt.plot(epochs, val_acc, \"b\", label = \"Validation Accuracy\")\n",
        "plt.title(\"Training and Validation Accuracy\")\n",
        "plt.legend()\n",
        "plt.figure()\n",
        "plt.plot(epochs, loss, \"bo\", label = \"Training Loss\")\n",
        "plt.plot(epochs, val_loss, \"b\", label = \"Validation Loss\")\n",
        "plt.title(\"Training and Validation Loss\")\n",
        "plt.legend()\n",
        "plt.show()"
      ],
      "metadata": {
        "colab": {
          "base_uri": "https://localhost:8080/",
          "height": 887
        },
        "id": "eaF0fES3N1gp",
        "outputId": "24a230be-9844-4b3a-f1f4-50a531ee53d3"
      },
      "id": "eaF0fES3N1gp",
      "execution_count": null,
      "outputs": [
        {
          "output_type": "display_data",
          "data": {
            "text/plain": [
              "<Figure size 640x480 with 1 Axes>"
            ],
            "image/png": "[encoded data removed]"
          },
          "metadata": {}
        },
        {
          "output_type": "display_data",
          "data": {
            "text/plain": [
              "<Figure size 640x480 with 1 Axes>"
            ],
            "image/png": "[encoded data removed]"
          },
          "metadata": {}
        }
      ]
    },
    {
      "cell_type": "code",
      "source": [
        "test_modelX = k.models.load_model(\"/content/drive/MyDrive/model/FER2013_best_modelX.keras\")\n",
        "test_lossX, test_accX = test_modelX.evaluate(test_data)"
      ],
      "metadata": {
        "colab": {
          "base_uri": "https://localhost:8080/"
        },
        "id": "P5DSg43SOrJQ",
        "outputId": "09a7a592-8677-40d1-ca6d-841e321d8c1d"
      },
      "id": "P5DSg43SOrJQ",
      "execution_count": null,
      "outputs": [
        {
          "output_type": "stream",
          "name": "stdout",
          "text": [
            "113/113 [==============================] - 2s 12ms/step - loss: 0.9264 - accuracy: 0.6640\n"
          ]
        }
      ]
    },
    {
      "cell_type": "code",
      "source": [
        "test_predX = test_model.predict(test_data)"
      ],
      "metadata": {
        "colab": {
          "base_uri": "https://localhost:8080/"
        },
        "id": "IE5oh-OBPFNJ",
        "outputId": "4a84e6f1-b884-4078-cb0c-05246d2e080a"
      },
      "id": "IE5oh-OBPFNJ",
      "execution_count": null,
      "outputs": [
        {
          "output_type": "stream",
          "name": "stdout",
          "text": [
            "113/113 [==============================] - 2s 14ms/step\n"
          ]
        }
      ]
    },
    {
      "cell_type": "code",
      "source": [
        "print(\"Shape of all Predictions: \" + str(test_predX.shape))\n",
        "print(\"Sample prediction of first element: \" + str(test_predX[0]))\n",
        "test_predX = np.argmax(test_predX, axis = -1)\n",
        "print(\"Shape after picking prediction label: \" + str(test_predX.shape))\n",
        "print(\"Sample prediction of first element after picking label: \" + str(test_predX[0]))\n",
        "test_trueX = np.argmax(test_img_labels, axis = -1)\n",
        "print(\"Shape of all true label list: \" + str(test_trueX.shape))\n",
        "print(\"Sample prediction of first element in true label: \" + str(test_trueX[0]))"
      ],
      "metadata": {
        "colab": {
          "base_uri": "https://localhost:8080/"
        },
        "id": "Z-aybn5-PLBE",
        "outputId": "4a078788-8715-4477-b1ec-a9396ff6c319"
      },
      "id": "Z-aybn5-PLBE",
      "execution_count": null,
      "outputs": [
        {
          "output_type": "stream",
          "name": "stdout",
          "text": [
            "Shape of all Predictions: (3589, 7)\n",
            "Sample prediction of first element: [6.1697793e-01 4.2608655e-03 8.6818151e-02 2.0176591e-04 2.2090763e-01\n",
            " 4.7037574e-03 6.6129848e-02]\n",
            "Shape after picking prediction label: (3589,)\n",
            "Sample prediction of first element after picking label: 0\n",
            "Shape of all true label list: (3589,)\n",
            "Sample prediction of first element in true label: 0\n"
          ]
        }
      ]
    },
    {
      "cell_type": "code",
      "source": [
        "\n",
        "print(\"Micro F1 Score: \" + str(f1_score(test_trueX, test_predX , average=\"micro\")))\n",
        "print(\"Weighted F1 Score: \" + str(f1_score(test_trueX, test_predX , average=\"weighted\")))\n",
        "print(\"Recall Score: \" + str(recall_score(test_trueX, test_predX, average='macro')))\n",
        "print(\"Precision Score: \" + str(precision_score(test_trueX, test_predX, average='macro')))\n",
        "\n"
      ],
      "metadata": {
        "colab": {
          "base_uri": "https://localhost:8080/"
        },
        "id": "8Msg8Q9RPQAQ",
        "outputId": "dba44647-40ae-401c-e478-cba3d3c566c4"
      },
      "id": "8Msg8Q9RPQAQ",
      "execution_count": null,
      "outputs": [
        {
          "output_type": "stream",
          "name": "stdout",
          "text": [
            "Micro F1 Score: 0.6377821120089161\n",
            "Weighted F1 Score: 0.6358706349451246\n",
            "Recall Score: 0.5856108794707564\n",
            "Precision Score: 0.609717949459899\n"
          ]
        }
      ]
    },
    {
      "cell_type": "code",
      "source": [
        "pip install visualkeras"
      ],
      "metadata": {
        "colab": {
          "base_uri": "https://localhost:8080/"
        },
        "id": "IXQVryZvXh0V",
        "outputId": "a1064c44-2e0c-4db0-8164-ddfe78b130d9"
      },
      "id": "IXQVryZvXh0V",
      "execution_count": null,
      "outputs": [
        {
          "output_type": "stream",
          "name": "stdout",
          "text": [
            "Looking in indexes: https://pypi.org/simple, https://us-python.pkg.dev/colab-wheels/public/simple/\n",
            "Collecting visualkeras\n",
            "  Downloading visualkeras-0.0.2-py3-none-any.whl (12 kB)\n",
            "Collecting aggdraw>=1.3.11\n",
            "  Downloading aggdraw-1.3.16-cp39-cp39-manylinux_2_17_x86_64.manylinux2014_x86_64.whl (992 kB)\n",
            "\u001b[2K     \u001b[90m━━━━━━━━━━━━━━━━━━━━━━━━━━━━━━━━━━━━━━\u001b[0m \u001b[32m992.0/992.0 kB\u001b[0m \u001b[31m16.7 MB/s\u001b[0m eta \u001b[36m0:00:00\u001b[0m\n",
            "\u001b[?25hRequirement already satisfied: pillow>=6.2.0 in /usr/local/lib/python3.9/dist-packages (from visualkeras) (8.4.0)\n",
            "Requirement already satisfied: numpy>=1.18.1 in /usr/local/lib/python3.9/dist-packages (from visualkeras) (1.22.4)\n",
            "Installing collected packages: aggdraw, visualkeras\n",
            "Successfully installed aggdraw-1.3.16 visualkeras-0.0.2\n"
          ]
        }
      ]
    },
    {
      "cell_type": "code",
      "source": [
        "#from tensorflow.keras.utils import plot_model\n",
        "#plot_model(model, to_file='/content/drive/MyDrive/model/model_architecture_rs_net2.jpeg', show_shapes=True, bgcolor='white', node_shape='box')\n",
        "\n",
        "\n",
        "\n",
        "import visualkeras\n",
        "from PIL import ImageFont\n",
        "\n",
        "\n"
      ],
      "metadata": {
        "id": "HSQhB92-kFFP"
      },
      "id": "HSQhB92-kFFP",
      "execution_count": null,
      "outputs": []
    },
    {
      "cell_type": "code",
      "source": [
        "visualkeras.layered_view(modelX,to_file='/content/drive/MyDrive/model/model_architecture_cnn.png',legend=True)"
      ],
      "metadata": {
        "colab": {
          "base_uri": "https://localhost:8080/",
          "height": 224
        },
        "id": "_OtWhhDqopWb",
        "outputId": "60aee680-1473-49e4-86c5-e6fe831ffd91"
      },
      "id": "_OtWhhDqopWb",
      "execution_count": null,
      "outputs": [
        {
          "output_type": "execute_result",
          "data": {
            "text/plain": [
              "<PIL.Image.Image image mode=RGBA size=1333x292 at 0x7F4A9C452A00>"
            ],
            "image/png": "[encoded data removed]"
          },
          "metadata": {},
          "execution_count": 14
        }
      ]
    },
    {
      "cell_type": "code",
      "source": [
        "pip install visualkeras"
      ],
      "metadata": {
        "colab": {
          "base_uri": "https://localhost:8080/"
        },
        "id": "Weqjx1EClK73",
        "outputId": "1a0f7151-d150-4ddf-f53c-7dd8e703c3fa"
      },
      "id": "Weqjx1EClK73",
      "execution_count": null,
      "outputs": [
        {
          "output_type": "stream",
          "name": "stdout",
          "text": [
            "Looking in indexes: https://pypi.org/simple, https://us-python.pkg.dev/colab-wheels/public/simple/\n",
            "Collecting visualkeras\n",
            "  Downloading visualkeras-0.0.2-py3-none-any.whl (12 kB)\n",
            "Requirement already satisfied: numpy>=1.18.1 in /usr/local/lib/python3.9/dist-packages (from visualkeras) (1.22.4)\n",
            "Collecting aggdraw>=1.3.11\n",
            "  Downloading aggdraw-1.3.16-cp39-cp39-manylinux_2_17_x86_64.manylinux2014_x86_64.whl (992 kB)\n",
            "\u001b[2K     \u001b[90m━━━━━━━━━━━━━━━━━━━━━━━━━━━━━━━━━━━━━━\u001b[0m \u001b[32m992.0/992.0 kB\u001b[0m \u001b[31m30.1 MB/s\u001b[0m eta \u001b[36m0:00:00\u001b[0m\n",
            "\u001b[?25hRequirement already satisfied: pillow>=6.2.0 in /usr/local/lib/python3.9/dist-packages (from visualkeras) (8.4.0)\n",
            "Installing collected packages: aggdraw, visualkeras\n",
            "Successfully installed aggdraw-1.3.16 visualkeras-0.0.2\n"
          ]
        }
      ]
    },
    {
      "cell_type": "code",
      "source": [],
      "metadata": {
        "id": "OjIQYBAalcuZ"
      },
      "id": "OjIQYBAalcuZ",
      "execution_count": null,
      "outputs": []
    }
  ],
  "metadata": {
    "colab": {
      "provenance": []
    },
    "kernelspec": {
      "display_name": "Python 3",
      "language": "python",
      "name": "python3"
    },
    "language_info": {
      "codemirror_mode": {
        "name": "ipython",
        "version": 3
      },
      "file_extension": ".py",
      "mimetype": "text/x-python",
      "name": "python",
      "nbconvert_exporter": "python",
      "pygments_lexer": "ipython3",
      "version": "3.7.6"
    },
    "accelerator": "GPU",
    "gpuClass": "standard"
  },
  "nbformat": 4,
  "nbformat_minor": 5
}